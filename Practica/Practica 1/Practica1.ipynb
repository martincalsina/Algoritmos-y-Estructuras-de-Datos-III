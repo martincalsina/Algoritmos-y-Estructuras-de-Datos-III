{
  "cells": [
    {
      "cell_type": "code",
      "execution_count": null,
      "metadata": {
        "id": "J3UlaiHxkv_o"
      },
      "outputs": [],
      "source": [
        "import time"
      ]
    },
    {
      "cell_type": "markdown",
      "metadata": {
        "id": "HBXhtFznaX_V"
      },
      "source": [
        "# Ejercicio 1 - Suma de Subconjuntos"
      ]
    },
    {
      "cell_type": "markdown",
      "metadata": {
        "id": "drg5r-UCaaME"
      },
      "source": [
        "Dado un conjunto $C$ de elementos sin repetidos, queremos ver si dentro de todas las posibles combinaciones de sus elementos (subconjuntos) hay alguna que sume $k$ una constante."
      ]
    },
    {
      "cell_type": "markdown",
      "metadata": {
        "id": "6iNaMQoBauHr"
      },
      "source": [
        "**Algoritmo propuesto**\n",
        "\n",
        "```\n",
        "1) subset_sum(C, i, j):  # implementa ss({c1, . . . , ci}, j)\n",
        "2)      Si i = 0, retornar (j == 0)\n",
        "3)      Si no, retornar subset_sum(C, i − 1, j) ∨ subset_sum(C, i − 1, j − C[i])\n",
        "\n",
        "```\n",
        "\n",
        "\n",
        "\n",
        "\n",
        "Donde $i$ es la posición en nuestro conjunto (bajo alguna implementación) del iésimo elemento de éste, $j$ es la suma a la que debemos llegar.\n",
        "\n",
        "**Explicación**\n",
        "\n",
        "Como tenemos que llegar a sumar $j$ con los elementos de nuestro subconjunto, para cada uno de ellos, llamémoslos $C[i]$ podemos elegir si tomarlos en cuenta o no en nuestra suma. Esto es lo que representa la tercer línea del algoritmo.\n",
        "\n",
        "Empezando desde el *último elemento* ($i$ = n-1) vamos a hacer dos llamadas recursivas:\n",
        "\n",
        "- Una en la que no tenemos en cuenta a este elemento, y por tanto seguimos con el siguiente:\n",
        "\n",
        "```\n",
        "subset_sum(C, i − 1, j)\n",
        "```\n",
        "\n",
        "- Una en la que lo tenemos en cuenta, por lo que ya no tenemos que intentar sumar $j$ si no $j - C[i]$. Por haberlo elegido, seguimos con el otro\n",
        "\n",
        "```\n",
        "subset_sum(C, i − 1, j - C[i])\n",
        "```\n",
        "\n",
        "No nos estamos guardando la combinación en alguna variable, si no que vamos modificando la suma a la que tenemos que llegar asumiendo cada elección.\n",
        "\n",
        "Eventualmente, como en cada llamada recursiva se está reduciendo el valor de $i$, caeremos en la primer guarda y devolveremos $True$ o $False$ según si $j$ es igual a 0 (lo que significa que fuimos restando los elementos correctos).\n",
        "\n",
        "Si $j < 0$, significa que restamos de más, es decir, nos pasamos.\n",
        "Si $j > 0$, significa que nos quedamos cortos.\n",
        "\n",
        "**Complejidad**\n",
        "\n",
        "Se están generando a fuerza bruta todas las posibles combinaciones, que son la cantidad de subconjuntos de un conjunto dado $C$, es decir: O($2^n$)\n",
        "\n",
        "\n",
        "**Backtracking**\n",
        "\n",
        "Tenemos que mejorar esto, hay configuraciones parciales que podemos rechazar por factibilidad (porque no llevaran a una solución válida bajo ninguna condición):\n",
        "\n",
        "$\\underline{Idea}$: Si $j < 0$ ya nos pasamos, por lo que deberíamos poder rechazar de una esa opción.\n",
        "\n",
        "*Actualización del algoritmo*\n",
        "\n",
        "```\n",
        "1) subset_sum(C, i, j):  # implementa ss({c1, . . . , ci}, j)\n",
        "2)      Si i = 0, retornar (j == 0)\n",
        "3)      Si j < 0, retornar False\n",
        "4)      Si no, retornar subset_sum(C, i − 1, j) ∨ subset_sum(C, i − 1, j − C[i])\n",
        "\n",
        "```\n",
        "\n",
        "Pero además, suponiendo que en alguna llamada recursiva vale que $j > 0$ para alguna combinación de elementos elegidos, pero que incluso sumando al resto sigue valiendo j > 0, entonces tampoco será posible dar con una solución (da igual que agarremos a todos los que todavía no vimos, nos quedamos cortos).\n",
        "\n",
        "*Actualización del algoritmo*\n",
        "\n",
        "```\n",
        "\n",
        "1) subset_sum(C, i, j):  # implementa ss({c1, . . . , ci}, j)\n",
        "2)      Si i = 0, retornar (j == 0)\n",
        "3)      Si j < 0, retornar False\n",
        "4)      Si j - sumaDeLosQueNoVimos(C, i) > 0, retornar False\n",
        "5)      Si no, retornar subset_sum(C, i − 1, j) ∨ subset_sum(C, i − 1, j − C[i])\n",
        "\n",
        "```"
      ]
    },
    {
      "cell_type": "markdown",
      "metadata": {
        "id": "o2oIOMauf71A"
      },
      "source": [
        "**Implementación**"
      ]
    },
    {
      "cell_type": "code",
      "execution_count": null,
      "metadata": {
        "id": "swKUli7gaUP3"
      },
      "outputs": [],
      "source": [
        "# C: arreglo de números (enteros por comodidad)\n",
        "# i: inicialmente igual a len(C) - 1 (último indice válido)\n",
        "\n",
        "def subset_sum(C, i, j):\n",
        "  if i == -1: #consideramos este como el caso base ya que el primer índice de un arreglo es 0, no 1 (como en el pseudocódigo)\n",
        "    return j == 0\n",
        "  elif j < 0:\n",
        "    return False\n",
        "  else:\n",
        "    return subset_sum(C, i-1, j) or subset_sum(C, i-1, j - C[i])\n",
        "\n",
        "def subset_sum_con_suma(C, i, j):\n",
        "  if i == -1:\n",
        "    return j == 0\n",
        "  elif j < 0:\n",
        "    return False\n",
        "  elif j - sumaDeLosQueNoVimos(C, i) > 0:\n",
        "    return False\n",
        "  else:\n",
        "    return subset_sum(C, i-1, j) or subset_sum(C, i-1, j - C[i])\n",
        "\n",
        "def sumaDeLosQueNoVimos(C, i):\n",
        "  return sum(C[0:i]) ## es la suma de C[0] + C[1] + C[2] + ... + C[i-1], el i está excluido"
      ]
    },
    {
      "cell_type": "code",
      "execution_count": null,
      "metadata": {
        "colab": {
          "base_uri": "https://localhost:8080/"
        },
        "id": "swEXQuV0g2o-",
        "outputId": "056a049f-558e-4cd9-d11b-5f555cb69ec4"
      },
      "outputs": [
        {
          "name": "stdout",
          "output_type": "stream",
          "text": [
            "No existe solución\n"
          ]
        }
      ],
      "source": [
        "lista1 = [1, 5, 3, 8, 2, 8, 2]\n",
        "k1 = 4 # debe ser True, pues 2 + 2 o 1 + 3 es 4\n",
        "\n",
        "lista2 = [2, 5, 1, 7, 1, 2]\n",
        "k2 = 100 #jamás será posible\n",
        "\n",
        "lista3 = [1, 6, 3, 24, 53, 24, 8, 1,4, 6, 23, 23, 0, 5, 21, 43, 32, 34, 34, 23, 23 ,34, 23 ,23, 143013, 123 ,312 ,34 ,123 ,23, 32]\n",
        "k3 = 5000000 #no se va a poder\n",
        "\n",
        "#res = subset_sum(lista1, len(lista1) - 1, k1)\n",
        "res = subset_sum(lista2, len(lista2) - 1, k2)\n",
        "\n",
        "\n",
        "if res:\n",
        "  print(\"Existe una solución\")\n",
        "else:\n",
        "  print(\"No existe solución\")"
      ]
    },
    {
      "cell_type": "markdown",
      "metadata": {
        "id": "JgGr2pv-jsQw"
      },
      "source": [
        "para la `lista3` probamos con los dos algoritmos, el segundo debería ser más eficiente, pues \"se da cuenta rápido\" de que no habrá solución\n"
      ]
    },
    {
      "cell_type": "code",
      "execution_count": null,
      "metadata": {
        "id": "cU7yMvqXjE8X"
      },
      "outputs": [],
      "source": [
        "#tarda una banda (más de 5 minutos en Google Colab), mejor no ejecutar\n",
        "\n",
        "start_time = time.time()\n",
        "res3_algo_sin_suma = subset_sum(lista3, len(lista3) - 1, k3)\n",
        "end_time = time.time()\n",
        "\n",
        "if res3_algo_sin_suma:\n",
        "  print(\"Existe una solución\")\n",
        "else:\n",
        "  print(\"No existe solución\")\n",
        "print(f\"Tiempo de ejecución: {end_time - start_time}\")"
      ]
    },
    {
      "cell_type": "code",
      "execution_count": null,
      "metadata": {
        "colab": {
          "base_uri": "https://localhost:8080/"
        },
        "id": "CCEoVt0SjrN2",
        "outputId": "4777bca8-bccb-4e54-d11c-0673c4e9dc5b"
      },
      "outputs": [
        {
          "name": "stdout",
          "output_type": "stream",
          "text": [
            "No existe solución\n",
            "Tiempo de ejecución: 0.00015497207641601562\n"
          ]
        }
      ],
      "source": [
        "#se da cuenta rapidísimo de que no hay solución\n",
        "\n",
        "start_time = time.time()\n",
        "res3_algo_con_suma = subset_sum_con_suma(lista3, len(lista3) - 1, k3)\n",
        "end_time = time.time()\n",
        "\n",
        "if res3_algo_con_suma:\n",
        "  print(\"Existe una solución\")\n",
        "else:\n",
        "  print(\"No existe solución\")\n",
        "print(f\"Tiempo de ejecución: {end_time - start_time}\")"
      ]
    },
    {
      "cell_type": "markdown",
      "metadata": {
        "id": "NrG7sXwHmVcv"
      },
      "source": [
        "**Printear las soluciones que se vayan encontrando**\n",
        "\n",
        "$\\underline{\\text{Idea}}$: Para no arruinar la complejidad, hay que ir pasando una variable $p$ por parámetro que se vayan modificando según agregamos o no elementos.\n",
        "\n",
        "Como en el fondo lo que estamos es buscando soluciones en profundidad, cada que tomemos una solución como posible deberíamos agregar nuestro elemento elegido a $p$, es decir:\n",
        "\n",
        "```\n",
        "p.append(elemElegido) #agregamos un elemento al arreglo\n",
        "```\n",
        "\n",
        "¿Pero que pasa si la solución no es válida?\n",
        "\n",
        "Debemos volver \"hacia atrás\", quitando los elementos que fuimos agregando hasta ese momento.\n",
        "\n",
        "```\n",
        "p.pop() #quitamos el último elem del arreglo\n",
        "```\n",
        "\n",
        "*Algoritmo actualizado*\n",
        "\n",
        "$\\underline{\\text{Nota}}$: corresponde a actualizar el algoritmo sin la suma, es decir, el que sólo tiene en cuenta si \"nos pasamos de largo\" como backtracking. Para el otro es análogo.\n",
        "\n",
        "\n",
        "```\n",
        "1) subset_sum(C, i, j, p):  # implementa ss({c1, . . . , ci}, j)\n",
        "2)      Si i = 0 Y (j == 0), printear(p); p.pop() #esta era solución, volvemos atrás a buscar más\n",
        "        Si i = 0 Y (j != 0), p.pop() #no printeamos, esta no es solución\n",
        "3)      Si j < 0, p.pop() #solución parcial inválida, nos pasamos\n",
        "4)      Si no, retornar subset_sum(C, i − 1, j, p) ∨ subset_sum(C, i − 1, j − C[i], p.append(C[i])\n",
        "\n",
        "```\n",
        "\n",
        "En la línea 4, si no restamos $j - C[i]$ significa que nos estamos eligiendo el iésimo elemento, por lo que $p$ sigue igual. Si lo elegimos, entonces hay que agregarlo a la lista `p.append(C[i])`\n",
        "\n",
        "\n"
      ]
    },
    {
      "cell_type": "markdown",
      "metadata": {
        "id": "xolESwrCoAHV"
      },
      "source": [
        "**Implementación**"
      ]
    },
    {
      "cell_type": "code",
      "execution_count": null,
      "metadata": {
        "id": "B7tb5fPan_pl"
      },
      "outputs": [],
      "source": [
        "# C: arreglo de números (enteros por comodidad)\n",
        "# i: inicialmente igual a len(C) - 1 (último indice válido)\n",
        "# p: lista vacía, de la que vamos sacando y agregando elementos\n",
        "\n",
        "def subset_sum_con_print(C, i, j, p):\n",
        "  if i == -1 and j == 0: #el arreglo es bueno\n",
        "    print(p)\n",
        "    return #este funcionó, debemos volver atrás\n",
        "  elif i == -1 and j != 0:\n",
        "    return #este no funcionó en una hoja, volvemos atrás\n",
        "  elif j < 0:\n",
        "    return #este no funcionó en algún lugar del medio de la recursión, me pasé\n",
        "  else:\n",
        "    subset_sum_con_print(C, i-1, j, p) #no agregamos a C[i]\n",
        "    p.append(C[i])\n",
        "    subset_sum_con_print(C, i-1, j - C[i], p) #agregamos a C[i]\n",
        "    p.pop()"
      ]
    },
    {
      "cell_type": "code",
      "execution_count": null,
      "metadata": {
        "colab": {
          "base_uri": "https://localhost:8080/"
        },
        "id": "fcT_zmC-p3MC",
        "outputId": "ea3d096c-9d56-4fc8-9cb1-3915d9a3fa23"
      },
      "outputs": [
        {
          "data": {
            "text/plain": [
              "[1, 5, 3, 8, 2, 8, 2]"
            ]
          },
          "execution_count": 24,
          "metadata": {},
          "output_type": "execute_result"
        }
      ],
      "source": [
        "lista1"
      ]
    },
    {
      "cell_type": "code",
      "execution_count": null,
      "metadata": {
        "colab": {
          "base_uri": "https://localhost:8080/"
        },
        "id": "UD9Ym87ao6FE",
        "outputId": "6116fcde-95e2-4376-cb46-69c714878d81"
      },
      "outputs": [
        {
          "name": "stdout",
          "output_type": "stream",
          "text": [
            "[3, 1]\n",
            "[2, 2]\n"
          ]
        }
      ],
      "source": [
        "subset_sum_con_print(lista1, len(lista1) - 1, k1, [])"
      ]
    },
    {
      "cell_type": "markdown",
      "metadata": {
        "id": "paG8I4sLltcm"
      },
      "source": [
        "# Ejercicio 2 - MagicSquare"
      ]
    },
    {
      "cell_type": "markdown",
      "metadata": {
        "id": "lYqZpGzRtb1P"
      },
      "source": [
        "a) ¿Cuántos cuadrados habría que generar para encontrar todos los cuadrados mágicos si se\n",
        "utiliza una solución de fuerza bruta?\n",
        "\n",
        "Si consideramos al vector solución $a = (a_1, a_2, ..., a_{n-1}, a_n, ..., a_{n^2-1}, a_{n^2})$ aquél en que cada posición $a_i$ corresponde con una celda de la matriz $M$ de tamaño $n \\times n$, o sea, de $n^2$ celdas, si tomamos que ya fueron colocados cada uno de los números en alguna de ellas, la cantidad de posibles matrices a probar que hay estará dada por el factorial de esas posiciones (las permutaciones), que son $n^2$, o sea: $O((n^2)!)$."
      ]
    },
    {
      "cell_type": "markdown",
      "metadata": {
        "id": "b2TRKGHcuN7C"
      },
      "source": [
        "b) Enunciar un algoritmo que use backtracking para resolver este problema que se base en la\n",
        "siguientes ideas:\n",
        "- La solución parcial tiene los valores de las primeras i − 1 las establecidos, al igual que\n",
        "los valores de las primeras j columnas de la la i.\n",
        "- Para establecer el valor de la posición (i, j +1) (o (i+1, 1) si j = n e i 6 = n) se consideran\n",
        "todos los valores que aún no se encuentran en el cuadrado. Para cada valor posible, se\n",
        "establece dicho valor en la posición y se cuentan todos los cuadrados mágicos con esta\n",
        "nueva solución parcial\n",
        "\n",
        "Básicamente nos están diciendo que tenemos que ir llenando desde la celda de arriba a la izquierda en adelante.\n",
        "\n",
        "1.   Nos paramos en una celda\n",
        "2.   Tomamos un elemento que todavía no hallamos puesto\n",
        "3.   Consideramos dos llamadas recursivas: una en la que ponemos a ese elemento; una en la que no lo ponemos.\n",
        "4.   Cada que \"nos caigamos por el costado\" tenemos que ir a la fila de abajo\n",
        "5.   Si \"nos caemos hacia abajo\" es que llegamos al final de la matriz, colocamos el número de la última celda.\n",
        "\n",
        "*Algoritmo (fuerza bruta)*\n",
        "\n",
        "```\n",
        "\n",
        "res = 0\n",
        "\n",
        "1) magic_square(C, M, i, j)\n",
        "2)        n = len(M)\n",
        "3)        res = 0\n",
        "5)        si i == n: #ya nos caimos de la ultima fila\n",
        "6)             si valido(M):\n",
        "7)                res++ # encontramos una solución\n",
        "8)        si j >= n: #nos caemos por el costado\n",
        "9)             magic_square(C, M, i+=1, 0)\n",
        "10)       else:\n",
        "11)             for k in range(0, n * n):\n",
        "12)                 if C[k] == 0: #podemos usar ese número\n",
        "13)                    M[i][j] = C[k]\n",
        "14)                    C[k] = 1\n",
        "15)                    r += magic_square(C, M, i, j+1)\n",
        "16)                    C[k] = 0\n",
        "17)       return res\n",
        "\n",
        "```\n",
        "\n",
        "**Explicación**\n",
        "\n",
        "Los parámetros son:\n",
        "\n",
        "- $C$ la lista de elementos que podemos utilizar, los números $1 \\leq a_i \\leq n^2$. Es una lista de ceros y unos en la que un 0 en la posición $k$ significa que el elemento $k+1$ está disponible, y un 1 que está en uso. Ejemplo: ¿Está el 1 disponible para ser usado? $1=k+1$, por lo que me fijo el valor de la posición $k=0$ del arreglo. Si $C[k]==0$, entonces puedo usarlo, si no, no.\n",
        "\n",
        "- $M$ la matriz de tamaño $n \\times n$\n",
        "\n",
        "- $i$ el índice de las filas, $0 \\leq i \\leq n-1$ (con excepción del final, en el que se cae y $i == n$)\n",
        "\n",
        "- $j$ el índice de las filas, $0 \\leq j \\leq n-1$ (con excepción de cuando nos caemos a la derecha, entonces $j == 0$)\n",
        "\n",
        "iniciamos en 0 a un resulta $res$, la cantidad de matrices válidas.\n",
        "\n",
        "Si $i == n$, es que completamos una matriz, tenemos que validar si cumple con la consigna de *magic square*, si lo hace, agregamos el resultado.\n",
        "\n",
        "Si $j == n$, es que nos pasamos de la última columna, debemos volver a la primera y una fila más abajo, $i++$\n",
        "\n",
        "En cualquier otro caso, tenemos que poner algo en la celda que estamos parados: como queremos todas las posibles permutaciones, para cada uno de nuestros elementos a poner, que son $1 \\leq a_i = k+1 \\leq n*2$ que representamos, como se mencionó, vía el arreglo $C$ si ya fueron elegidos o no, los vamos a ir poniendo a todos.\n",
        "\n",
        "Ejemplo: Comenzamos en $(i=0, j=0)$, todavía no fue colocado ningún elemento de $C$, por lo que tenemos que ver todos los posibles que pueden ir en la primera celda, que son todos ellos. Con un `for`, probamos todos las posibles elecciones para el primer elemento. Para una de ellas dada, por ejemplo `M[0][0]=0+1=1`, le decimos al vecotr $C$ que éste ya fue elegido $C[0] = 1$ y hacemos la llamada recursiva moviéndonos una posición $(i=0, j=1)$. En esta llamada, al entrar al for, la guarda de `C[0] == 0` dará `False`, por lo que se seguirá con el siguiente número, el 2, que está representado por el valor de `C[1]`. Es decir, una de las posibilidades fue quitada, este for hará $n^2 - 1$ llamados recursivos.\n",
        "\n"
      ]
    },
    {
      "cell_type": "markdown",
      "metadata": {
        "id": "x4Uczcqv4PFs"
      },
      "source": [
        "**Implementación**"
      ]
    },
    {
      "cell_type": "code",
      "execution_count": null,
      "metadata": {
        "id": "SRmbBUgJ4Qtc"
      },
      "outputs": [],
      "source": [
        "def magic_square(C, M, i, j):\n",
        "  res = 0\n",
        "  n = len(M)\n",
        "  if i == n:\n",
        "    if valido(M): #sumaremos una res si la matriz es buena\n",
        "      res += 1\n",
        "      print(\"Encontré una sol\")\n",
        "      print(M)\n",
        "  elif j == n:\n",
        "    return magic_square(C, M, i+1, 0) #tenemos que ir a la fila de abajo\n",
        "  else:\n",
        "    for k in range(0, n*n):\n",
        "      if C[k] == 0: #elemento libre\n",
        "         M[i][j] = k+1 #lo ponemos en este lugar\n",
        "         C[k] = 1 #decimos que está en uso\n",
        "         res += magic_square(C, M, i, j+1) #llamada recursiva, nos movemos a la derecha\n",
        "         C[k] = 0 #después de la llamada lo liberamos\n",
        "\n",
        "  return res\n",
        "\n",
        "def valido(M):\n",
        "    n = len(M)\n",
        "\n",
        "    magic_num = 0\n",
        "\n",
        "    for i in range(0, n): #calculamos el número mágico\n",
        "        magic_num += M[i][0]\n",
        "\n",
        "    ##chequeamos filas y columnas\n",
        "    for i in range(0, n):\n",
        "        row = 0;\n",
        "        col = 0;\n",
        "        for j in range(0, n):\n",
        "            row += M[i][j] #va viendo para una fila fija la suma de las columnas (j varía)\n",
        "            col += M[j][i] #para una columna fija, va viendo la usma de las filas (j varía)\n",
        "        if (row != magic_num or col != magic_num):\n",
        "          return False\n",
        "\n",
        "\n",
        "    ##chequeamos las diagonales\n",
        "    diagonal1 = 0;\n",
        "    diagonal2 = 0;\n",
        "    for i in range(0, n):\n",
        "        diagonal1 += M[i][i]\n",
        "        diagonal2 += M[i][n - i - 1]\n",
        "\n",
        "    if (diagonal1 != magic_num or diagonal2 != magic_num):\n",
        "       return False\n",
        "\n",
        "    return True"
      ]
    },
    {
      "cell_type": "markdown",
      "metadata": {
        "id": "p9JxPhEm4IFn"
      },
      "source": [
        "c) Demostrar que el árbol de backtracking tiene $O((n^2)!)$ nodos en peor caso.\n",
        "\n",
        "Si hablamos de las hojas, es trivial, pues ya vimos que esa $(n^2)!$ es la cantidad de matrices posibles a generar.\n",
        "\n",
        "Si nos referimos a TODOS los nodos:\n",
        "\n",
        "Si $V(n)$ es el número de vértices en el árbol, entonces podemos expresar $V(n)$ como $T(n^2)$, $T(n) = n! + n!/2 + n!/3 + ... + n!/(n-1)! + n!/n!$ pues cada nivel, a medida que subimos, tendrá la mitad del anterior, y como en el último tenemos $(n^2)!$ elementos, $T(n^2)$ será $(n^2)! + (n^2)!/2 ...$\n",
        "\n",
        "Y como\n",
        "\n",
        "$e = \\sum_{k=0}^{\\infty} {1/k!}$\n",
        "\n",
        "Se sigue que\n",
        "\n",
        "$e \\times n! = \\sum_{k=0}^{\\infty} {n!/k!}$\n",
        "\n",
        "Pero como todos los términos son positivos, esta suma será más grande que detenernos en $T(n)$, así:\n",
        "\n",
        "$T(n) \\leq e \\times n! = \\sum_{k=0}^{\\infty} {n!/k!}$\n",
        "\n",
        "y tomando $n^2$\n",
        "\n",
        "$V(n) \\leq e \\times (n^2)! = \\sum_{k=0}^{\\infty} {(n^2)!/k!}$\n",
        "\n",
        "Luego, por ser $e$ una constante, $V(n)$ pertenece a $O((n^2)!)$\n",
        "\n",
        "$\\underline{\\text{Nota}}$: Tomado de un profe, ni ahí se me ocurría esto.\n",
        "\n"
      ]
    },
    {
      "cell_type": "markdown",
      "metadata": {
        "id": "7-tYVKpD-nBW"
      },
      "source": [
        "d ) Considere la siguiente poda al árbol de backtracking: al momento de elegir el valor de una\n",
        "nueva posición, verificar que la suma parcial de la fila no supere el número mágico. Verificar\n",
        "también que la suma parcial de los valores de las columnas no supere el número mágico.\n",
        "Introducir estas podas al algoritmo e implementarlo en la computadora. ¿Puede mejorar\n",
        "estas podas?\n",
        "\n",
        "*Algoritmo actualizado*\n",
        "\n",
        "\n",
        "```\n",
        "\n",
        "res = 0\n",
        "\n",
        "1) magic_square(C, M, i, j)\n",
        "2)        n = len(M)\n",
        "3)        res = 0\n",
        "5)        si i == n: #ya nos caimos de la ultima fila\n",
        "6)             si valido(M):\n",
        "7)                res++ # encontramos una solución\n",
        "8)        si j >= n: #nos caemos por el costado\n",
        "9)             magic_square(C, M, i+=1, 0)\n",
        "10)       else:\n",
        "11)             for k in range(0, n * n):\n",
        "12)                 if C[k] == 0: #podemos usar ese número\n",
        "13)                    sumaParcialFilas = sumaParcialFila(M, i)\n",
        "14)                    sumaParcialCols = sumaParcialCols(M, j)\n",
        "15)                    if sumaParcialFilas < magicNum(n) Y sumaParcialCols < magicNum(n):\n",
        "16)                        M[i][j] = k+1\n",
        "17)                        C[k] = 1\n",
        "18)                        r += magic_square(C, M, i, j+1)\n",
        "19)                        C[k] = 0\n",
        "20)                    else:\n",
        "21)                        continue\n",
        "22)       return res\n",
        "\n",
        "```\n"
      ]
    },
    {
      "cell_type": "markdown",
      "metadata": {
        "id": "5yY9X1C1AdTT"
      },
      "source": [
        "**Implementación**"
      ]
    },
    {
      "cell_type": "code",
      "execution_count": null,
      "metadata": {
        "id": "D0eSzYt3Ae82"
      },
      "outputs": [],
      "source": [
        "def magic_square_optmz(C, M, i, j):\n",
        "  res = 0\n",
        "  n = len(M)\n",
        "  magic_num = calc_magic_num(n)\n",
        "  if i == n:\n",
        "    if valido(M): #sumaremos una res si la matriz es buena\n",
        "      res += 1\n",
        "      print(\"Encontré una sol\")\n",
        "      print(M)\n",
        "  elif j == n: #tenemos que bajar\n",
        "    return magic_square_optmz(C, M, i+1, 0)\n",
        "  else:\n",
        "    #veo si la matriz que tengo es válida en este momento,\n",
        "    #antes de poner cualquier cosa, puesto que si estoy acá es porque todavía hay celdas libres,\n",
        "    #veo si vale la pena hacerlo, si es posible que eso me lleve a alguna solución\n",
        "    sumaParcRows = sumaParcialFila(M, i, j) #estando en M[i][j], me fijo la suma de todo lo anterior a esta fila\n",
        "    sumaParcCols = sumaParcialCol(M, i, j) #estando en M[i][j], me fijo la suma de todo lo anterior a esta columna\n",
        "    if sumaParcRows < magic_num and sumaParcCols < magic_num:\n",
        "       for k in range(0, n*n): #si es posible poner algo, nuevamente tengo que ver todas las posibilidades\n",
        "         if C[k] == 0: #elemento libre, que puedo poner\n",
        "              M[i][j] = k+1 #lo ponemos en este lugar\n",
        "              C[k] = 1 #decimos que está en uso\n",
        "              res += magic_square_optmz(C, M, i, j+1) #llamada recursiva, nos movemos a la derecha\n",
        "              C[k] = 0 #después de la llamada lo liberamos\n",
        "\n",
        "  return res\n",
        "\n",
        "\n",
        "def calc_magic_num(n):\n",
        "  return (n**3 + n)/2\n",
        "\n",
        "def sumaParcialFila(M, i, j):\n",
        "  #estamos para dos en la fila i, columna j, por lo que ya llenamos todas las filas anteriores y la última celda M[i][j-1]\n",
        "  suma = 0\n",
        "  for k in range(0, j):\n",
        "    suma += M[i][k] #va hasta M[i][j-1], la última celda de esta fila que hemos llenado\n",
        "  return suma\n",
        "\n",
        "def sumaParcialCol(M, i, j): #estamos parados en la columna j de la fila i, tenemos que ver si esta columna, desde 0 hasta i-1 es correcta\n",
        "  suma = 0\n",
        "  for k in range(0, i):\n",
        "    suma += M[k][j]\n",
        "  return suma"
      ]
    },
    {
      "cell_type": "markdown",
      "metadata": {
        "id": "7KYSRY0zaaKa"
      },
      "source": [
        "Ejecutar esta celda y la siguiente cada que se quiera testear las funciones (pues modifican a las m y vals)"
      ]
    },
    {
      "cell_type": "code",
      "execution_count": null,
      "metadata": {
        "id": "cIpsaTlkIrO_"
      },
      "outputs": [],
      "source": [
        "m1 = [[0, 0],\n",
        "      [0, 0]]\n",
        "vals1 = [0 for i in range(0, 4+1)]\n",
        "\n",
        "m2 = [[0, 0, 0],\n",
        "      [0, 0, 0],\n",
        "      [0, 0, 0]]\n",
        "vals2 = [0 for i in range(0, 9+1)]\n",
        "\n",
        "m3 = [[0, 0, 0, 0],\n",
        "      [0, 0, 0, 0],\n",
        "      [0, 0, 0, 0],\n",
        "      [0, 0, 0, 0]]\n",
        "vals3 = [0 for i in range(0, 16+1)]"
      ]
    },
    {
      "cell_type": "code",
      "execution_count": null,
      "metadata": {
        "id": "XcQ5xs9OJYHZ"
      },
      "outputs": [],
      "source": [
        "tests = [(m1, vals1), (m2, vals2), (m3, vals3)] #ojo que agregar (m3, vals3) ya hace que la optimizada tarde un ratote, pues n=4 da 880 soluciones"
      ]
    },
    {
      "cell_type": "code",
      "execution_count": null,
      "metadata": {
        "colab": {
          "base_uri": "https://localhost:8080/"
        },
        "id": "F_VUmBnjJw0l",
        "outputId": "ad233181-264c-4091-cb85-214de2850a19"
      },
      "outputs": [
        {
          "name": "stdout",
          "output_type": "stream",
          "text": [
            "Para una matriz de tamaño 2 x 2 tenemos 0 soluciones.\n",
            "\n",
            "Encontré una sol\n",
            "[[2, 7, 6], [9, 5, 1], [4, 3, 8]]\n",
            "Encontré una sol\n",
            "[[2, 9, 4], [7, 5, 3], [6, 1, 8]]\n",
            "Encontré una sol\n",
            "[[4, 3, 8], [9, 5, 1], [2, 7, 6]]\n",
            "Encontré una sol\n",
            "[[4, 9, 2], [3, 5, 7], [8, 1, 6]]\n",
            "Encontré una sol\n",
            "[[6, 1, 8], [7, 5, 3], [2, 9, 4]]\n",
            "Encontré una sol\n",
            "[[6, 7, 2], [1, 5, 9], [8, 3, 4]]\n",
            "Encontré una sol\n",
            "[[8, 1, 6], [3, 5, 7], [4, 9, 2]]\n",
            "Encontré una sol\n",
            "[[8, 3, 4], [1, 5, 9], [6, 7, 2]]\n",
            "Para una matriz de tamaño 3 x 3 tenemos 8 soluciones.\n",
            "\n",
            "Para una matriz de tamaño 4 x 4 tenemos 0 soluciones.\n",
            "\n",
            "Tardamos 1.5276811122894287 segundos con la función original\n"
          ]
        }
      ],
      "source": [
        "inicio = time.time()\n",
        "for matriz, values in tests:\n",
        "  n = len(matriz)\n",
        "  matrices_buenas = []\n",
        "  soluciones = magic_square(values, matriz, 0, 0)\n",
        "  print(f\"Para una matriz de tamaño {n} x {n} tenemos {soluciones} soluciones.\")\n",
        "  #print(f\"Matrices válidas: {matrices_buenas}\")\n",
        "  print(\"\")\n",
        "fin = time.time()\n",
        "print(f\"Tardamos {fin - inicio} segundos con la función original\")"
      ]
    },
    {
      "cell_type": "code",
      "execution_count": null,
      "metadata": {
        "colab": {
          "base_uri": "https://localhost:8080/",
          "height": 716
        },
        "id": "fAtLTyNANytU",
        "outputId": "211eb3a7-1aa6-4e02-b1ec-2df67102d6eb"
      },
      "outputs": [
        {
          "name": "stdout",
          "output_type": "stream",
          "text": [
            "Para una matriz de tamaño 2 x 2 tenemos 0 soluciones.\n",
            "\n",
            "Encontré una sol\n",
            "[[2, 7, 6], [9, 5, 1], [4, 3, 8]]\n",
            "Encontré una sol\n",
            "[[2, 9, 4], [7, 5, 3], [6, 1, 8]]\n",
            "Encontré una sol\n",
            "[[4, 3, 8], [9, 5, 1], [2, 7, 6]]\n",
            "Encontré una sol\n",
            "[[4, 9, 2], [3, 5, 7], [8, 1, 6]]\n",
            "Encontré una sol\n",
            "[[6, 1, 8], [7, 5, 3], [2, 9, 4]]\n",
            "Encontré una sol\n",
            "[[6, 7, 2], [1, 5, 9], [8, 3, 4]]\n",
            "Encontré una sol\n",
            "[[8, 1, 6], [3, 5, 7], [4, 9, 2]]\n",
            "Encontré una sol\n",
            "[[8, 3, 4], [1, 5, 9], [6, 7, 2]]\n",
            "Para una matriz de tamaño 3 x 3 tenemos 8 soluciones.\n",
            "\n"
          ]
        },
        {
          "ename": "KeyboardInterrupt",
          "evalue": "",
          "output_type": "error",
          "traceback": [
            "\u001b[0;31m---------------------------------------------------------------------------\u001b[0m",
            "\u001b[0;31mKeyboardInterrupt\u001b[0m                         Traceback (most recent call last)",
            "\u001b[0;32m<ipython-input-114-a486ecb14688>\u001b[0m in \u001b[0;36m<cell line: 2>\u001b[0;34m()\u001b[0m\n\u001b[1;32m      2\u001b[0m \u001b[0;32mfor\u001b[0m \u001b[0mmatriz\u001b[0m\u001b[0;34m,\u001b[0m \u001b[0mvalues\u001b[0m \u001b[0;32min\u001b[0m \u001b[0mtests\u001b[0m\u001b[0;34m:\u001b[0m\u001b[0;34m\u001b[0m\u001b[0;34m\u001b[0m\u001b[0m\n\u001b[1;32m      3\u001b[0m   \u001b[0mn\u001b[0m \u001b[0;34m=\u001b[0m \u001b[0mlen\u001b[0m\u001b[0;34m(\u001b[0m\u001b[0mmatriz\u001b[0m\u001b[0;34m)\u001b[0m\u001b[0;34m\u001b[0m\u001b[0;34m\u001b[0m\u001b[0m\n\u001b[0;32m----> 4\u001b[0;31m   \u001b[0msoluciones\u001b[0m \u001b[0;34m=\u001b[0m \u001b[0mmagic_square_optmz\u001b[0m\u001b[0;34m(\u001b[0m\u001b[0mvalues\u001b[0m\u001b[0;34m,\u001b[0m \u001b[0mmatriz\u001b[0m\u001b[0;34m,\u001b[0m \u001b[0;36m0\u001b[0m\u001b[0;34m,\u001b[0m \u001b[0;36m0\u001b[0m\u001b[0;34m)\u001b[0m\u001b[0;34m\u001b[0m\u001b[0;34m\u001b[0m\u001b[0m\n\u001b[0m\u001b[1;32m      5\u001b[0m   \u001b[0mprint\u001b[0m\u001b[0;34m(\u001b[0m\u001b[0;34mf\"Para una matriz de tamaño {n} x {n} tenemos {soluciones} soluciones.\"\u001b[0m\u001b[0;34m)\u001b[0m\u001b[0;34m\u001b[0m\u001b[0;34m\u001b[0m\u001b[0m\n\u001b[1;32m      6\u001b[0m   \u001b[0mprint\u001b[0m\u001b[0;34m(\u001b[0m\u001b[0;34m\"\"\u001b[0m\u001b[0;34m)\u001b[0m\u001b[0;34m\u001b[0m\u001b[0;34m\u001b[0m\u001b[0m\n",
            "\u001b[0;32m<ipython-input-104-c5dc0e01134a>\u001b[0m in \u001b[0;36mmagic_square_optmz\u001b[0;34m(C, M, i, j)\u001b[0m\n\u001b[1;32m     21\u001b[0m               \u001b[0mM\u001b[0m\u001b[0;34m[\u001b[0m\u001b[0mi\u001b[0m\u001b[0;34m]\u001b[0m\u001b[0;34m[\u001b[0m\u001b[0mj\u001b[0m\u001b[0;34m]\u001b[0m \u001b[0;34m=\u001b[0m \u001b[0mk\u001b[0m\u001b[0;34m+\u001b[0m\u001b[0;36m1\u001b[0m \u001b[0;31m#lo ponemos en este lugar\u001b[0m\u001b[0;34m\u001b[0m\u001b[0;34m\u001b[0m\u001b[0m\n\u001b[1;32m     22\u001b[0m               \u001b[0mC\u001b[0m\u001b[0;34m[\u001b[0m\u001b[0mk\u001b[0m\u001b[0;34m]\u001b[0m \u001b[0;34m=\u001b[0m \u001b[0;36m1\u001b[0m \u001b[0;31m#decimos que está en uso\u001b[0m\u001b[0;34m\u001b[0m\u001b[0;34m\u001b[0m\u001b[0m\n\u001b[0;32m---> 23\u001b[0;31m               \u001b[0mres\u001b[0m \u001b[0;34m+=\u001b[0m \u001b[0mmagic_square_optmz\u001b[0m\u001b[0;34m(\u001b[0m\u001b[0mC\u001b[0m\u001b[0;34m,\u001b[0m \u001b[0mM\u001b[0m\u001b[0;34m,\u001b[0m \u001b[0mi\u001b[0m\u001b[0;34m,\u001b[0m \u001b[0mj\u001b[0m\u001b[0;34m+\u001b[0m\u001b[0;36m1\u001b[0m\u001b[0;34m)\u001b[0m \u001b[0;31m#llamada recursiva, nos movemos a la derecha\u001b[0m\u001b[0;34m\u001b[0m\u001b[0;34m\u001b[0m\u001b[0m\n\u001b[0m\u001b[1;32m     24\u001b[0m               \u001b[0mC\u001b[0m\u001b[0;34m[\u001b[0m\u001b[0mk\u001b[0m\u001b[0;34m]\u001b[0m \u001b[0;34m=\u001b[0m \u001b[0;36m0\u001b[0m \u001b[0;31m#después de la llamada lo liberamos\u001b[0m\u001b[0;34m\u001b[0m\u001b[0;34m\u001b[0m\u001b[0m\n\u001b[1;32m     25\u001b[0m \u001b[0;34m\u001b[0m\u001b[0m\n",
            "\u001b[0;32m<ipython-input-104-c5dc0e01134a>\u001b[0m in \u001b[0;36mmagic_square_optmz\u001b[0;34m(C, M, i, j)\u001b[0m\n\u001b[1;32m     21\u001b[0m               \u001b[0mM\u001b[0m\u001b[0;34m[\u001b[0m\u001b[0mi\u001b[0m\u001b[0;34m]\u001b[0m\u001b[0;34m[\u001b[0m\u001b[0mj\u001b[0m\u001b[0;34m]\u001b[0m \u001b[0;34m=\u001b[0m \u001b[0mk\u001b[0m\u001b[0;34m+\u001b[0m\u001b[0;36m1\u001b[0m \u001b[0;31m#lo ponemos en este lugar\u001b[0m\u001b[0;34m\u001b[0m\u001b[0;34m\u001b[0m\u001b[0m\n\u001b[1;32m     22\u001b[0m               \u001b[0mC\u001b[0m\u001b[0;34m[\u001b[0m\u001b[0mk\u001b[0m\u001b[0;34m]\u001b[0m \u001b[0;34m=\u001b[0m \u001b[0;36m1\u001b[0m \u001b[0;31m#decimos que está en uso\u001b[0m\u001b[0;34m\u001b[0m\u001b[0;34m\u001b[0m\u001b[0m\n\u001b[0;32m---> 23\u001b[0;31m               \u001b[0mres\u001b[0m \u001b[0;34m+=\u001b[0m \u001b[0mmagic_square_optmz\u001b[0m\u001b[0;34m(\u001b[0m\u001b[0mC\u001b[0m\u001b[0;34m,\u001b[0m \u001b[0mM\u001b[0m\u001b[0;34m,\u001b[0m \u001b[0mi\u001b[0m\u001b[0;34m,\u001b[0m \u001b[0mj\u001b[0m\u001b[0;34m+\u001b[0m\u001b[0;36m1\u001b[0m\u001b[0;34m)\u001b[0m \u001b[0;31m#llamada recursiva, nos movemos a la derecha\u001b[0m\u001b[0;34m\u001b[0m\u001b[0;34m\u001b[0m\u001b[0m\n\u001b[0m\u001b[1;32m     24\u001b[0m               \u001b[0mC\u001b[0m\u001b[0;34m[\u001b[0m\u001b[0mk\u001b[0m\u001b[0;34m]\u001b[0m \u001b[0;34m=\u001b[0m \u001b[0;36m0\u001b[0m \u001b[0;31m#después de la llamada lo liberamos\u001b[0m\u001b[0;34m\u001b[0m\u001b[0;34m\u001b[0m\u001b[0m\n\u001b[1;32m     25\u001b[0m \u001b[0;34m\u001b[0m\u001b[0m\n",
            "\u001b[0;32m<ipython-input-104-c5dc0e01134a>\u001b[0m in \u001b[0;36mmagic_square_optmz\u001b[0;34m(C, M, i, j)\u001b[0m\n\u001b[1;32m     21\u001b[0m               \u001b[0mM\u001b[0m\u001b[0;34m[\u001b[0m\u001b[0mi\u001b[0m\u001b[0;34m]\u001b[0m\u001b[0;34m[\u001b[0m\u001b[0mj\u001b[0m\u001b[0;34m]\u001b[0m \u001b[0;34m=\u001b[0m \u001b[0mk\u001b[0m\u001b[0;34m+\u001b[0m\u001b[0;36m1\u001b[0m \u001b[0;31m#lo ponemos en este lugar\u001b[0m\u001b[0;34m\u001b[0m\u001b[0;34m\u001b[0m\u001b[0m\n\u001b[1;32m     22\u001b[0m               \u001b[0mC\u001b[0m\u001b[0;34m[\u001b[0m\u001b[0mk\u001b[0m\u001b[0;34m]\u001b[0m \u001b[0;34m=\u001b[0m \u001b[0;36m1\u001b[0m \u001b[0;31m#decimos que está en uso\u001b[0m\u001b[0;34m\u001b[0m\u001b[0;34m\u001b[0m\u001b[0m\n\u001b[0;32m---> 23\u001b[0;31m               \u001b[0mres\u001b[0m \u001b[0;34m+=\u001b[0m \u001b[0mmagic_square_optmz\u001b[0m\u001b[0;34m(\u001b[0m\u001b[0mC\u001b[0m\u001b[0;34m,\u001b[0m \u001b[0mM\u001b[0m\u001b[0;34m,\u001b[0m \u001b[0mi\u001b[0m\u001b[0;34m,\u001b[0m \u001b[0mj\u001b[0m\u001b[0;34m+\u001b[0m\u001b[0;36m1\u001b[0m\u001b[0;34m)\u001b[0m \u001b[0;31m#llamada recursiva, nos movemos a la derecha\u001b[0m\u001b[0;34m\u001b[0m\u001b[0;34m\u001b[0m\u001b[0m\n\u001b[0m\u001b[1;32m     24\u001b[0m               \u001b[0mC\u001b[0m\u001b[0;34m[\u001b[0m\u001b[0mk\u001b[0m\u001b[0;34m]\u001b[0m \u001b[0;34m=\u001b[0m \u001b[0;36m0\u001b[0m \u001b[0;31m#después de la llamada lo liberamos\u001b[0m\u001b[0;34m\u001b[0m\u001b[0;34m\u001b[0m\u001b[0m\n\u001b[1;32m     25\u001b[0m \u001b[0;34m\u001b[0m\u001b[0m\n",
            "\u001b[0;32m<ipython-input-104-c5dc0e01134a>\u001b[0m in \u001b[0;36mmagic_square_optmz\u001b[0;34m(C, M, i, j)\u001b[0m\n\u001b[1;32m     21\u001b[0m               \u001b[0mM\u001b[0m\u001b[0;34m[\u001b[0m\u001b[0mi\u001b[0m\u001b[0;34m]\u001b[0m\u001b[0;34m[\u001b[0m\u001b[0mj\u001b[0m\u001b[0;34m]\u001b[0m \u001b[0;34m=\u001b[0m \u001b[0mk\u001b[0m\u001b[0;34m+\u001b[0m\u001b[0;36m1\u001b[0m \u001b[0;31m#lo ponemos en este lugar\u001b[0m\u001b[0;34m\u001b[0m\u001b[0;34m\u001b[0m\u001b[0m\n\u001b[1;32m     22\u001b[0m               \u001b[0mC\u001b[0m\u001b[0;34m[\u001b[0m\u001b[0mk\u001b[0m\u001b[0;34m]\u001b[0m \u001b[0;34m=\u001b[0m \u001b[0;36m1\u001b[0m \u001b[0;31m#decimos que está en uso\u001b[0m\u001b[0;34m\u001b[0m\u001b[0;34m\u001b[0m\u001b[0m\n\u001b[0;32m---> 23\u001b[0;31m               \u001b[0mres\u001b[0m \u001b[0;34m+=\u001b[0m \u001b[0mmagic_square_optmz\u001b[0m\u001b[0;34m(\u001b[0m\u001b[0mC\u001b[0m\u001b[0;34m,\u001b[0m \u001b[0mM\u001b[0m\u001b[0;34m,\u001b[0m \u001b[0mi\u001b[0m\u001b[0;34m,\u001b[0m \u001b[0mj\u001b[0m\u001b[0;34m+\u001b[0m\u001b[0;36m1\u001b[0m\u001b[0;34m)\u001b[0m \u001b[0;31m#llamada recursiva, nos movemos a la derecha\u001b[0m\u001b[0;34m\u001b[0m\u001b[0;34m\u001b[0m\u001b[0m\n\u001b[0m\u001b[1;32m     24\u001b[0m               \u001b[0mC\u001b[0m\u001b[0;34m[\u001b[0m\u001b[0mk\u001b[0m\u001b[0;34m]\u001b[0m \u001b[0;34m=\u001b[0m \u001b[0;36m0\u001b[0m \u001b[0;31m#después de la llamada lo liberamos\u001b[0m\u001b[0;34m\u001b[0m\u001b[0;34m\u001b[0m\u001b[0m\n\u001b[1;32m     25\u001b[0m \u001b[0;34m\u001b[0m\u001b[0m\n",
            "\u001b[0;32m<ipython-input-104-c5dc0e01134a>\u001b[0m in \u001b[0;36mmagic_square_optmz\u001b[0;34m(C, M, i, j)\u001b[0m\n\u001b[1;32m      9\u001b[0m       \u001b[0mprint\u001b[0m\u001b[0;34m(\u001b[0m\u001b[0mM\u001b[0m\u001b[0;34m)\u001b[0m\u001b[0;34m\u001b[0m\u001b[0;34m\u001b[0m\u001b[0m\n\u001b[1;32m     10\u001b[0m   \u001b[0;32melif\u001b[0m \u001b[0mj\u001b[0m \u001b[0;34m==\u001b[0m \u001b[0mn\u001b[0m\u001b[0;34m:\u001b[0m \u001b[0;31m#tenemos que bajar\u001b[0m\u001b[0;34m\u001b[0m\u001b[0;34m\u001b[0m\u001b[0m\n\u001b[0;32m---> 11\u001b[0;31m     \u001b[0;32mreturn\u001b[0m \u001b[0mmagic_square_optmz\u001b[0m\u001b[0;34m(\u001b[0m\u001b[0mC\u001b[0m\u001b[0;34m,\u001b[0m \u001b[0mM\u001b[0m\u001b[0;34m,\u001b[0m \u001b[0mi\u001b[0m\u001b[0;34m+\u001b[0m\u001b[0;36m1\u001b[0m\u001b[0;34m,\u001b[0m \u001b[0;36m0\u001b[0m\u001b[0;34m)\u001b[0m\u001b[0;34m\u001b[0m\u001b[0;34m\u001b[0m\u001b[0m\n\u001b[0m\u001b[1;32m     12\u001b[0m   \u001b[0;32melse\u001b[0m\u001b[0;34m:\u001b[0m\u001b[0;34m\u001b[0m\u001b[0;34m\u001b[0m\u001b[0m\n\u001b[1;32m     13\u001b[0m     \u001b[0;31m#veo si la matriz que tengo es válida en este momento,\u001b[0m\u001b[0;34m\u001b[0m\u001b[0;34m\u001b[0m\u001b[0m\n",
            "\u001b[0;32m<ipython-input-104-c5dc0e01134a>\u001b[0m in \u001b[0;36mmagic_square_optmz\u001b[0;34m(C, M, i, j)\u001b[0m\n\u001b[1;32m     21\u001b[0m               \u001b[0mM\u001b[0m\u001b[0;34m[\u001b[0m\u001b[0mi\u001b[0m\u001b[0;34m]\u001b[0m\u001b[0;34m[\u001b[0m\u001b[0mj\u001b[0m\u001b[0;34m]\u001b[0m \u001b[0;34m=\u001b[0m \u001b[0mk\u001b[0m\u001b[0;34m+\u001b[0m\u001b[0;36m1\u001b[0m \u001b[0;31m#lo ponemos en este lugar\u001b[0m\u001b[0;34m\u001b[0m\u001b[0;34m\u001b[0m\u001b[0m\n\u001b[1;32m     22\u001b[0m               \u001b[0mC\u001b[0m\u001b[0;34m[\u001b[0m\u001b[0mk\u001b[0m\u001b[0;34m]\u001b[0m \u001b[0;34m=\u001b[0m \u001b[0;36m1\u001b[0m \u001b[0;31m#decimos que está en uso\u001b[0m\u001b[0;34m\u001b[0m\u001b[0;34m\u001b[0m\u001b[0m\n\u001b[0;32m---> 23\u001b[0;31m               \u001b[0mres\u001b[0m \u001b[0;34m+=\u001b[0m \u001b[0mmagic_square_optmz\u001b[0m\u001b[0;34m(\u001b[0m\u001b[0mC\u001b[0m\u001b[0;34m,\u001b[0m \u001b[0mM\u001b[0m\u001b[0;34m,\u001b[0m \u001b[0mi\u001b[0m\u001b[0;34m,\u001b[0m \u001b[0mj\u001b[0m\u001b[0;34m+\u001b[0m\u001b[0;36m1\u001b[0m\u001b[0;34m)\u001b[0m \u001b[0;31m#llamada recursiva, nos movemos a la derecha\u001b[0m\u001b[0;34m\u001b[0m\u001b[0;34m\u001b[0m\u001b[0m\n\u001b[0m\u001b[1;32m     24\u001b[0m               \u001b[0mC\u001b[0m\u001b[0;34m[\u001b[0m\u001b[0mk\u001b[0m\u001b[0;34m]\u001b[0m \u001b[0;34m=\u001b[0m \u001b[0;36m0\u001b[0m \u001b[0;31m#después de la llamada lo liberamos\u001b[0m\u001b[0;34m\u001b[0m\u001b[0;34m\u001b[0m\u001b[0m\n\u001b[1;32m     25\u001b[0m \u001b[0;34m\u001b[0m\u001b[0m\n",
            "\u001b[0;32m<ipython-input-104-c5dc0e01134a>\u001b[0m in \u001b[0;36mmagic_square_optmz\u001b[0;34m(C, M, i, j)\u001b[0m\n\u001b[1;32m     21\u001b[0m               \u001b[0mM\u001b[0m\u001b[0;34m[\u001b[0m\u001b[0mi\u001b[0m\u001b[0;34m]\u001b[0m\u001b[0;34m[\u001b[0m\u001b[0mj\u001b[0m\u001b[0;34m]\u001b[0m \u001b[0;34m=\u001b[0m \u001b[0mk\u001b[0m\u001b[0;34m+\u001b[0m\u001b[0;36m1\u001b[0m \u001b[0;31m#lo ponemos en este lugar\u001b[0m\u001b[0;34m\u001b[0m\u001b[0;34m\u001b[0m\u001b[0m\n\u001b[1;32m     22\u001b[0m               \u001b[0mC\u001b[0m\u001b[0;34m[\u001b[0m\u001b[0mk\u001b[0m\u001b[0;34m]\u001b[0m \u001b[0;34m=\u001b[0m \u001b[0;36m1\u001b[0m \u001b[0;31m#decimos que está en uso\u001b[0m\u001b[0;34m\u001b[0m\u001b[0;34m\u001b[0m\u001b[0m\n\u001b[0;32m---> 23\u001b[0;31m               \u001b[0mres\u001b[0m \u001b[0;34m+=\u001b[0m \u001b[0mmagic_square_optmz\u001b[0m\u001b[0;34m(\u001b[0m\u001b[0mC\u001b[0m\u001b[0;34m,\u001b[0m \u001b[0mM\u001b[0m\u001b[0;34m,\u001b[0m \u001b[0mi\u001b[0m\u001b[0;34m,\u001b[0m \u001b[0mj\u001b[0m\u001b[0;34m+\u001b[0m\u001b[0;36m1\u001b[0m\u001b[0;34m)\u001b[0m \u001b[0;31m#llamada recursiva, nos movemos a la derecha\u001b[0m\u001b[0;34m\u001b[0m\u001b[0;34m\u001b[0m\u001b[0m\n\u001b[0m\u001b[1;32m     24\u001b[0m               \u001b[0mC\u001b[0m\u001b[0;34m[\u001b[0m\u001b[0mk\u001b[0m\u001b[0;34m]\u001b[0m \u001b[0;34m=\u001b[0m \u001b[0;36m0\u001b[0m \u001b[0;31m#después de la llamada lo liberamos\u001b[0m\u001b[0;34m\u001b[0m\u001b[0;34m\u001b[0m\u001b[0m\n\u001b[1;32m     25\u001b[0m \u001b[0;34m\u001b[0m\u001b[0m\n",
            "\u001b[0;32m<ipython-input-104-c5dc0e01134a>\u001b[0m in \u001b[0;36mmagic_square_optmz\u001b[0;34m(C, M, i, j)\u001b[0m\n\u001b[1;32m     21\u001b[0m               \u001b[0mM\u001b[0m\u001b[0;34m[\u001b[0m\u001b[0mi\u001b[0m\u001b[0;34m]\u001b[0m\u001b[0;34m[\u001b[0m\u001b[0mj\u001b[0m\u001b[0;34m]\u001b[0m \u001b[0;34m=\u001b[0m \u001b[0mk\u001b[0m\u001b[0;34m+\u001b[0m\u001b[0;36m1\u001b[0m \u001b[0;31m#lo ponemos en este lugar\u001b[0m\u001b[0;34m\u001b[0m\u001b[0;34m\u001b[0m\u001b[0m\n\u001b[1;32m     22\u001b[0m               \u001b[0mC\u001b[0m\u001b[0;34m[\u001b[0m\u001b[0mk\u001b[0m\u001b[0;34m]\u001b[0m \u001b[0;34m=\u001b[0m \u001b[0;36m1\u001b[0m \u001b[0;31m#decimos que está en uso\u001b[0m\u001b[0;34m\u001b[0m\u001b[0;34m\u001b[0m\u001b[0m\n\u001b[0;32m---> 23\u001b[0;31m               \u001b[0mres\u001b[0m \u001b[0;34m+=\u001b[0m \u001b[0mmagic_square_optmz\u001b[0m\u001b[0;34m(\u001b[0m\u001b[0mC\u001b[0m\u001b[0;34m,\u001b[0m \u001b[0mM\u001b[0m\u001b[0;34m,\u001b[0m \u001b[0mi\u001b[0m\u001b[0;34m,\u001b[0m \u001b[0mj\u001b[0m\u001b[0;34m+\u001b[0m\u001b[0;36m1\u001b[0m\u001b[0;34m)\u001b[0m \u001b[0;31m#llamada recursiva, nos movemos a la derecha\u001b[0m\u001b[0;34m\u001b[0m\u001b[0;34m\u001b[0m\u001b[0m\n\u001b[0m\u001b[1;32m     24\u001b[0m               \u001b[0mC\u001b[0m\u001b[0;34m[\u001b[0m\u001b[0mk\u001b[0m\u001b[0;34m]\u001b[0m \u001b[0;34m=\u001b[0m \u001b[0;36m0\u001b[0m \u001b[0;31m#después de la llamada lo liberamos\u001b[0m\u001b[0;34m\u001b[0m\u001b[0;34m\u001b[0m\u001b[0m\n\u001b[1;32m     25\u001b[0m \u001b[0;34m\u001b[0m\u001b[0m\n",
            "\u001b[0;32m<ipython-input-104-c5dc0e01134a>\u001b[0m in \u001b[0;36mmagic_square_optmz\u001b[0;34m(C, M, i, j)\u001b[0m\n\u001b[1;32m     21\u001b[0m               \u001b[0mM\u001b[0m\u001b[0;34m[\u001b[0m\u001b[0mi\u001b[0m\u001b[0;34m]\u001b[0m\u001b[0;34m[\u001b[0m\u001b[0mj\u001b[0m\u001b[0;34m]\u001b[0m \u001b[0;34m=\u001b[0m \u001b[0mk\u001b[0m\u001b[0;34m+\u001b[0m\u001b[0;36m1\u001b[0m \u001b[0;31m#lo ponemos en este lugar\u001b[0m\u001b[0;34m\u001b[0m\u001b[0;34m\u001b[0m\u001b[0m\n\u001b[1;32m     22\u001b[0m               \u001b[0mC\u001b[0m\u001b[0;34m[\u001b[0m\u001b[0mk\u001b[0m\u001b[0;34m]\u001b[0m \u001b[0;34m=\u001b[0m \u001b[0;36m1\u001b[0m \u001b[0;31m#decimos que está en uso\u001b[0m\u001b[0;34m\u001b[0m\u001b[0;34m\u001b[0m\u001b[0m\n\u001b[0;32m---> 23\u001b[0;31m               \u001b[0mres\u001b[0m \u001b[0;34m+=\u001b[0m \u001b[0mmagic_square_optmz\u001b[0m\u001b[0;34m(\u001b[0m\u001b[0mC\u001b[0m\u001b[0;34m,\u001b[0m \u001b[0mM\u001b[0m\u001b[0;34m,\u001b[0m \u001b[0mi\u001b[0m\u001b[0;34m,\u001b[0m \u001b[0mj\u001b[0m\u001b[0;34m+\u001b[0m\u001b[0;36m1\u001b[0m\u001b[0;34m)\u001b[0m \u001b[0;31m#llamada recursiva, nos movemos a la derecha\u001b[0m\u001b[0;34m\u001b[0m\u001b[0;34m\u001b[0m\u001b[0m\n\u001b[0m\u001b[1;32m     24\u001b[0m               \u001b[0mC\u001b[0m\u001b[0;34m[\u001b[0m\u001b[0mk\u001b[0m\u001b[0;34m]\u001b[0m \u001b[0;34m=\u001b[0m \u001b[0;36m0\u001b[0m \u001b[0;31m#después de la llamada lo liberamos\u001b[0m\u001b[0;34m\u001b[0m\u001b[0;34m\u001b[0m\u001b[0m\n\u001b[1;32m     25\u001b[0m \u001b[0;34m\u001b[0m\u001b[0m\n",
            "\u001b[0;32m<ipython-input-104-c5dc0e01134a>\u001b[0m in \u001b[0;36mmagic_square_optmz\u001b[0;34m(C, M, i, j)\u001b[0m\n\u001b[1;32m      9\u001b[0m       \u001b[0mprint\u001b[0m\u001b[0;34m(\u001b[0m\u001b[0mM\u001b[0m\u001b[0;34m)\u001b[0m\u001b[0;34m\u001b[0m\u001b[0;34m\u001b[0m\u001b[0m\n\u001b[1;32m     10\u001b[0m   \u001b[0;32melif\u001b[0m \u001b[0mj\u001b[0m \u001b[0;34m==\u001b[0m \u001b[0mn\u001b[0m\u001b[0;34m:\u001b[0m \u001b[0;31m#tenemos que bajar\u001b[0m\u001b[0;34m\u001b[0m\u001b[0;34m\u001b[0m\u001b[0m\n\u001b[0;32m---> 11\u001b[0;31m     \u001b[0;32mreturn\u001b[0m \u001b[0mmagic_square_optmz\u001b[0m\u001b[0;34m(\u001b[0m\u001b[0mC\u001b[0m\u001b[0;34m,\u001b[0m \u001b[0mM\u001b[0m\u001b[0;34m,\u001b[0m \u001b[0mi\u001b[0m\u001b[0;34m+\u001b[0m\u001b[0;36m1\u001b[0m\u001b[0;34m,\u001b[0m \u001b[0;36m0\u001b[0m\u001b[0;34m)\u001b[0m\u001b[0;34m\u001b[0m\u001b[0;34m\u001b[0m\u001b[0m\n\u001b[0m\u001b[1;32m     12\u001b[0m   \u001b[0;32melse\u001b[0m\u001b[0;34m:\u001b[0m\u001b[0;34m\u001b[0m\u001b[0;34m\u001b[0m\u001b[0m\n\u001b[1;32m     13\u001b[0m     \u001b[0;31m#veo si la matriz que tengo es válida en este momento,\u001b[0m\u001b[0;34m\u001b[0m\u001b[0;34m\u001b[0m\u001b[0m\n",
            "\u001b[0;32m<ipython-input-104-c5dc0e01134a>\u001b[0m in \u001b[0;36mmagic_square_optmz\u001b[0;34m(C, M, i, j)\u001b[0m\n\u001b[1;32m     21\u001b[0m               \u001b[0mM\u001b[0m\u001b[0;34m[\u001b[0m\u001b[0mi\u001b[0m\u001b[0;34m]\u001b[0m\u001b[0;34m[\u001b[0m\u001b[0mj\u001b[0m\u001b[0;34m]\u001b[0m \u001b[0;34m=\u001b[0m \u001b[0mk\u001b[0m\u001b[0;34m+\u001b[0m\u001b[0;36m1\u001b[0m \u001b[0;31m#lo ponemos en este lugar\u001b[0m\u001b[0;34m\u001b[0m\u001b[0;34m\u001b[0m\u001b[0m\n\u001b[1;32m     22\u001b[0m               \u001b[0mC\u001b[0m\u001b[0;34m[\u001b[0m\u001b[0mk\u001b[0m\u001b[0;34m]\u001b[0m \u001b[0;34m=\u001b[0m \u001b[0;36m1\u001b[0m \u001b[0;31m#decimos que está en uso\u001b[0m\u001b[0;34m\u001b[0m\u001b[0;34m\u001b[0m\u001b[0m\n\u001b[0;32m---> 23\u001b[0;31m               \u001b[0mres\u001b[0m \u001b[0;34m+=\u001b[0m \u001b[0mmagic_square_optmz\u001b[0m\u001b[0;34m(\u001b[0m\u001b[0mC\u001b[0m\u001b[0;34m,\u001b[0m \u001b[0mM\u001b[0m\u001b[0;34m,\u001b[0m \u001b[0mi\u001b[0m\u001b[0;34m,\u001b[0m \u001b[0mj\u001b[0m\u001b[0;34m+\u001b[0m\u001b[0;36m1\u001b[0m\u001b[0;34m)\u001b[0m \u001b[0;31m#llamada recursiva, nos movemos a la derecha\u001b[0m\u001b[0;34m\u001b[0m\u001b[0;34m\u001b[0m\u001b[0m\n\u001b[0m\u001b[1;32m     24\u001b[0m               \u001b[0mC\u001b[0m\u001b[0;34m[\u001b[0m\u001b[0mk\u001b[0m\u001b[0;34m]\u001b[0m \u001b[0;34m=\u001b[0m \u001b[0;36m0\u001b[0m \u001b[0;31m#después de la llamada lo liberamos\u001b[0m\u001b[0;34m\u001b[0m\u001b[0;34m\u001b[0m\u001b[0m\n\u001b[1;32m     25\u001b[0m \u001b[0;34m\u001b[0m\u001b[0m\n",
            "\u001b[0;32m<ipython-input-104-c5dc0e01134a>\u001b[0m in \u001b[0;36mmagic_square_optmz\u001b[0;34m(C, M, i, j)\u001b[0m\n\u001b[1;32m     21\u001b[0m               \u001b[0mM\u001b[0m\u001b[0;34m[\u001b[0m\u001b[0mi\u001b[0m\u001b[0;34m]\u001b[0m\u001b[0;34m[\u001b[0m\u001b[0mj\u001b[0m\u001b[0;34m]\u001b[0m \u001b[0;34m=\u001b[0m \u001b[0mk\u001b[0m\u001b[0;34m+\u001b[0m\u001b[0;36m1\u001b[0m \u001b[0;31m#lo ponemos en este lugar\u001b[0m\u001b[0;34m\u001b[0m\u001b[0;34m\u001b[0m\u001b[0m\n\u001b[1;32m     22\u001b[0m               \u001b[0mC\u001b[0m\u001b[0;34m[\u001b[0m\u001b[0mk\u001b[0m\u001b[0;34m]\u001b[0m \u001b[0;34m=\u001b[0m \u001b[0;36m1\u001b[0m \u001b[0;31m#decimos que está en uso\u001b[0m\u001b[0;34m\u001b[0m\u001b[0;34m\u001b[0m\u001b[0m\n\u001b[0;32m---> 23\u001b[0;31m               \u001b[0mres\u001b[0m \u001b[0;34m+=\u001b[0m \u001b[0mmagic_square_optmz\u001b[0m\u001b[0;34m(\u001b[0m\u001b[0mC\u001b[0m\u001b[0;34m,\u001b[0m \u001b[0mM\u001b[0m\u001b[0;34m,\u001b[0m \u001b[0mi\u001b[0m\u001b[0;34m,\u001b[0m \u001b[0mj\u001b[0m\u001b[0;34m+\u001b[0m\u001b[0;36m1\u001b[0m\u001b[0;34m)\u001b[0m \u001b[0;31m#llamada recursiva, nos movemos a la derecha\u001b[0m\u001b[0;34m\u001b[0m\u001b[0;34m\u001b[0m\u001b[0m\n\u001b[0m\u001b[1;32m     24\u001b[0m               \u001b[0mC\u001b[0m\u001b[0;34m[\u001b[0m\u001b[0mk\u001b[0m\u001b[0;34m]\u001b[0m \u001b[0;34m=\u001b[0m \u001b[0;36m0\u001b[0m \u001b[0;31m#después de la llamada lo liberamos\u001b[0m\u001b[0;34m\u001b[0m\u001b[0;34m\u001b[0m\u001b[0m\n\u001b[1;32m     25\u001b[0m \u001b[0;34m\u001b[0m\u001b[0m\n",
            "\u001b[0;32m<ipython-input-104-c5dc0e01134a>\u001b[0m in \u001b[0;36mmagic_square_optmz\u001b[0;34m(C, M, i, j)\u001b[0m\n\u001b[1;32m     21\u001b[0m               \u001b[0mM\u001b[0m\u001b[0;34m[\u001b[0m\u001b[0mi\u001b[0m\u001b[0;34m]\u001b[0m\u001b[0;34m[\u001b[0m\u001b[0mj\u001b[0m\u001b[0;34m]\u001b[0m \u001b[0;34m=\u001b[0m \u001b[0mk\u001b[0m\u001b[0;34m+\u001b[0m\u001b[0;36m1\u001b[0m \u001b[0;31m#lo ponemos en este lugar\u001b[0m\u001b[0;34m\u001b[0m\u001b[0;34m\u001b[0m\u001b[0m\n\u001b[1;32m     22\u001b[0m               \u001b[0mC\u001b[0m\u001b[0;34m[\u001b[0m\u001b[0mk\u001b[0m\u001b[0;34m]\u001b[0m \u001b[0;34m=\u001b[0m \u001b[0;36m1\u001b[0m \u001b[0;31m#decimos que está en uso\u001b[0m\u001b[0;34m\u001b[0m\u001b[0;34m\u001b[0m\u001b[0m\n\u001b[0;32m---> 23\u001b[0;31m               \u001b[0mres\u001b[0m \u001b[0;34m+=\u001b[0m \u001b[0mmagic_square_optmz\u001b[0m\u001b[0;34m(\u001b[0m\u001b[0mC\u001b[0m\u001b[0;34m,\u001b[0m \u001b[0mM\u001b[0m\u001b[0;34m,\u001b[0m \u001b[0mi\u001b[0m\u001b[0;34m,\u001b[0m \u001b[0mj\u001b[0m\u001b[0;34m+\u001b[0m\u001b[0;36m1\u001b[0m\u001b[0;34m)\u001b[0m \u001b[0;31m#llamada recursiva, nos movemos a la derecha\u001b[0m\u001b[0;34m\u001b[0m\u001b[0;34m\u001b[0m\u001b[0m\n\u001b[0m\u001b[1;32m     24\u001b[0m               \u001b[0mC\u001b[0m\u001b[0;34m[\u001b[0m\u001b[0mk\u001b[0m\u001b[0;34m]\u001b[0m \u001b[0;34m=\u001b[0m \u001b[0;36m0\u001b[0m \u001b[0;31m#después de la llamada lo liberamos\u001b[0m\u001b[0;34m\u001b[0m\u001b[0;34m\u001b[0m\u001b[0m\n\u001b[1;32m     25\u001b[0m \u001b[0;34m\u001b[0m\u001b[0m\n",
            "\u001b[0;32m<ipython-input-104-c5dc0e01134a>\u001b[0m in \u001b[0;36mmagic_square_optmz\u001b[0;34m(C, M, i, j)\u001b[0m\n\u001b[1;32m     21\u001b[0m               \u001b[0mM\u001b[0m\u001b[0;34m[\u001b[0m\u001b[0mi\u001b[0m\u001b[0;34m]\u001b[0m\u001b[0;34m[\u001b[0m\u001b[0mj\u001b[0m\u001b[0;34m]\u001b[0m \u001b[0;34m=\u001b[0m \u001b[0mk\u001b[0m\u001b[0;34m+\u001b[0m\u001b[0;36m1\u001b[0m \u001b[0;31m#lo ponemos en este lugar\u001b[0m\u001b[0;34m\u001b[0m\u001b[0;34m\u001b[0m\u001b[0m\n\u001b[1;32m     22\u001b[0m               \u001b[0mC\u001b[0m\u001b[0;34m[\u001b[0m\u001b[0mk\u001b[0m\u001b[0;34m]\u001b[0m \u001b[0;34m=\u001b[0m \u001b[0;36m1\u001b[0m \u001b[0;31m#decimos que está en uso\u001b[0m\u001b[0;34m\u001b[0m\u001b[0;34m\u001b[0m\u001b[0m\n\u001b[0;32m---> 23\u001b[0;31m               \u001b[0mres\u001b[0m \u001b[0;34m+=\u001b[0m \u001b[0mmagic_square_optmz\u001b[0m\u001b[0;34m(\u001b[0m\u001b[0mC\u001b[0m\u001b[0;34m,\u001b[0m \u001b[0mM\u001b[0m\u001b[0;34m,\u001b[0m \u001b[0mi\u001b[0m\u001b[0;34m,\u001b[0m \u001b[0mj\u001b[0m\u001b[0;34m+\u001b[0m\u001b[0;36m1\u001b[0m\u001b[0;34m)\u001b[0m \u001b[0;31m#llamada recursiva, nos movemos a la derecha\u001b[0m\u001b[0;34m\u001b[0m\u001b[0;34m\u001b[0m\u001b[0m\n\u001b[0m\u001b[1;32m     24\u001b[0m               \u001b[0mC\u001b[0m\u001b[0;34m[\u001b[0m\u001b[0mk\u001b[0m\u001b[0;34m]\u001b[0m \u001b[0;34m=\u001b[0m \u001b[0;36m0\u001b[0m \u001b[0;31m#después de la llamada lo liberamos\u001b[0m\u001b[0;34m\u001b[0m\u001b[0;34m\u001b[0m\u001b[0m\n\u001b[1;32m     25\u001b[0m \u001b[0;34m\u001b[0m\u001b[0m\n",
            "\u001b[0;32m<ipython-input-104-c5dc0e01134a>\u001b[0m in \u001b[0;36mmagic_square_optmz\u001b[0;34m(C, M, i, j)\u001b[0m\n\u001b[1;32m      9\u001b[0m       \u001b[0mprint\u001b[0m\u001b[0;34m(\u001b[0m\u001b[0mM\u001b[0m\u001b[0;34m)\u001b[0m\u001b[0;34m\u001b[0m\u001b[0;34m\u001b[0m\u001b[0m\n\u001b[1;32m     10\u001b[0m   \u001b[0;32melif\u001b[0m \u001b[0mj\u001b[0m \u001b[0;34m==\u001b[0m \u001b[0mn\u001b[0m\u001b[0;34m:\u001b[0m \u001b[0;31m#tenemos que bajar\u001b[0m\u001b[0;34m\u001b[0m\u001b[0;34m\u001b[0m\u001b[0m\n\u001b[0;32m---> 11\u001b[0;31m     \u001b[0;32mreturn\u001b[0m \u001b[0mmagic_square_optmz\u001b[0m\u001b[0;34m(\u001b[0m\u001b[0mC\u001b[0m\u001b[0;34m,\u001b[0m \u001b[0mM\u001b[0m\u001b[0;34m,\u001b[0m \u001b[0mi\u001b[0m\u001b[0;34m+\u001b[0m\u001b[0;36m1\u001b[0m\u001b[0;34m,\u001b[0m \u001b[0;36m0\u001b[0m\u001b[0;34m)\u001b[0m\u001b[0;34m\u001b[0m\u001b[0;34m\u001b[0m\u001b[0m\n\u001b[0m\u001b[1;32m     12\u001b[0m   \u001b[0;32melse\u001b[0m\u001b[0;34m:\u001b[0m\u001b[0;34m\u001b[0m\u001b[0;34m\u001b[0m\u001b[0m\n\u001b[1;32m     13\u001b[0m     \u001b[0;31m#veo si la matriz que tengo es válida en este momento,\u001b[0m\u001b[0;34m\u001b[0m\u001b[0;34m\u001b[0m\u001b[0m\n",
            "\u001b[0;32m<ipython-input-104-c5dc0e01134a>\u001b[0m in \u001b[0;36mmagic_square_optmz\u001b[0;34m(C, M, i, j)\u001b[0m\n\u001b[1;32m     21\u001b[0m               \u001b[0mM\u001b[0m\u001b[0;34m[\u001b[0m\u001b[0mi\u001b[0m\u001b[0;34m]\u001b[0m\u001b[0;34m[\u001b[0m\u001b[0mj\u001b[0m\u001b[0;34m]\u001b[0m \u001b[0;34m=\u001b[0m \u001b[0mk\u001b[0m\u001b[0;34m+\u001b[0m\u001b[0;36m1\u001b[0m \u001b[0;31m#lo ponemos en este lugar\u001b[0m\u001b[0;34m\u001b[0m\u001b[0;34m\u001b[0m\u001b[0m\n\u001b[1;32m     22\u001b[0m               \u001b[0mC\u001b[0m\u001b[0;34m[\u001b[0m\u001b[0mk\u001b[0m\u001b[0;34m]\u001b[0m \u001b[0;34m=\u001b[0m \u001b[0;36m1\u001b[0m \u001b[0;31m#decimos que está en uso\u001b[0m\u001b[0;34m\u001b[0m\u001b[0;34m\u001b[0m\u001b[0m\n\u001b[0;32m---> 23\u001b[0;31m               \u001b[0mres\u001b[0m \u001b[0;34m+=\u001b[0m \u001b[0mmagic_square_optmz\u001b[0m\u001b[0;34m(\u001b[0m\u001b[0mC\u001b[0m\u001b[0;34m,\u001b[0m \u001b[0mM\u001b[0m\u001b[0;34m,\u001b[0m \u001b[0mi\u001b[0m\u001b[0;34m,\u001b[0m \u001b[0mj\u001b[0m\u001b[0;34m+\u001b[0m\u001b[0;36m1\u001b[0m\u001b[0;34m)\u001b[0m \u001b[0;31m#llamada recursiva, nos movemos a la derecha\u001b[0m\u001b[0;34m\u001b[0m\u001b[0;34m\u001b[0m\u001b[0m\n\u001b[0m\u001b[1;32m     24\u001b[0m               \u001b[0mC\u001b[0m\u001b[0;34m[\u001b[0m\u001b[0mk\u001b[0m\u001b[0;34m]\u001b[0m \u001b[0;34m=\u001b[0m \u001b[0;36m0\u001b[0m \u001b[0;31m#después de la llamada lo liberamos\u001b[0m\u001b[0;34m\u001b[0m\u001b[0;34m\u001b[0m\u001b[0m\n\u001b[1;32m     25\u001b[0m \u001b[0;34m\u001b[0m\u001b[0m\n",
            "\u001b[0;32m<ipython-input-104-c5dc0e01134a>\u001b[0m in \u001b[0;36mmagic_square_optmz\u001b[0;34m(C, M, i, j)\u001b[0m\n\u001b[1;32m     21\u001b[0m               \u001b[0mM\u001b[0m\u001b[0;34m[\u001b[0m\u001b[0mi\u001b[0m\u001b[0;34m]\u001b[0m\u001b[0;34m[\u001b[0m\u001b[0mj\u001b[0m\u001b[0;34m]\u001b[0m \u001b[0;34m=\u001b[0m \u001b[0mk\u001b[0m\u001b[0;34m+\u001b[0m\u001b[0;36m1\u001b[0m \u001b[0;31m#lo ponemos en este lugar\u001b[0m\u001b[0;34m\u001b[0m\u001b[0;34m\u001b[0m\u001b[0m\n\u001b[1;32m     22\u001b[0m               \u001b[0mC\u001b[0m\u001b[0;34m[\u001b[0m\u001b[0mk\u001b[0m\u001b[0;34m]\u001b[0m \u001b[0;34m=\u001b[0m \u001b[0;36m1\u001b[0m \u001b[0;31m#decimos que está en uso\u001b[0m\u001b[0;34m\u001b[0m\u001b[0;34m\u001b[0m\u001b[0m\n\u001b[0;32m---> 23\u001b[0;31m               \u001b[0mres\u001b[0m \u001b[0;34m+=\u001b[0m \u001b[0mmagic_square_optmz\u001b[0m\u001b[0;34m(\u001b[0m\u001b[0mC\u001b[0m\u001b[0;34m,\u001b[0m \u001b[0mM\u001b[0m\u001b[0;34m,\u001b[0m \u001b[0mi\u001b[0m\u001b[0;34m,\u001b[0m \u001b[0mj\u001b[0m\u001b[0;34m+\u001b[0m\u001b[0;36m1\u001b[0m\u001b[0;34m)\u001b[0m \u001b[0;31m#llamada recursiva, nos movemos a la derecha\u001b[0m\u001b[0;34m\u001b[0m\u001b[0;34m\u001b[0m\u001b[0m\n\u001b[0m\u001b[1;32m     24\u001b[0m               \u001b[0mC\u001b[0m\u001b[0;34m[\u001b[0m\u001b[0mk\u001b[0m\u001b[0;34m]\u001b[0m \u001b[0;34m=\u001b[0m \u001b[0;36m0\u001b[0m \u001b[0;31m#después de la llamada lo liberamos\u001b[0m\u001b[0;34m\u001b[0m\u001b[0;34m\u001b[0m\u001b[0m\n\u001b[1;32m     25\u001b[0m \u001b[0;34m\u001b[0m\u001b[0m\n",
            "\u001b[0;32m<ipython-input-104-c5dc0e01134a>\u001b[0m in \u001b[0;36mmagic_square_optmz\u001b[0;34m(C, M, i, j)\u001b[0m\n\u001b[1;32m     21\u001b[0m               \u001b[0mM\u001b[0m\u001b[0;34m[\u001b[0m\u001b[0mi\u001b[0m\u001b[0;34m]\u001b[0m\u001b[0;34m[\u001b[0m\u001b[0mj\u001b[0m\u001b[0;34m]\u001b[0m \u001b[0;34m=\u001b[0m \u001b[0mk\u001b[0m\u001b[0;34m+\u001b[0m\u001b[0;36m1\u001b[0m \u001b[0;31m#lo ponemos en este lugar\u001b[0m\u001b[0;34m\u001b[0m\u001b[0;34m\u001b[0m\u001b[0m\n\u001b[1;32m     22\u001b[0m               \u001b[0mC\u001b[0m\u001b[0;34m[\u001b[0m\u001b[0mk\u001b[0m\u001b[0;34m]\u001b[0m \u001b[0;34m=\u001b[0m \u001b[0;36m1\u001b[0m \u001b[0;31m#decimos que está en uso\u001b[0m\u001b[0;34m\u001b[0m\u001b[0;34m\u001b[0m\u001b[0m\n\u001b[0;32m---> 23\u001b[0;31m               \u001b[0mres\u001b[0m \u001b[0;34m+=\u001b[0m \u001b[0mmagic_square_optmz\u001b[0m\u001b[0;34m(\u001b[0m\u001b[0mC\u001b[0m\u001b[0;34m,\u001b[0m \u001b[0mM\u001b[0m\u001b[0;34m,\u001b[0m \u001b[0mi\u001b[0m\u001b[0;34m,\u001b[0m \u001b[0mj\u001b[0m\u001b[0;34m+\u001b[0m\u001b[0;36m1\u001b[0m\u001b[0;34m)\u001b[0m \u001b[0;31m#llamada recursiva, nos movemos a la derecha\u001b[0m\u001b[0;34m\u001b[0m\u001b[0;34m\u001b[0m\u001b[0m\n\u001b[0m\u001b[1;32m     24\u001b[0m               \u001b[0mC\u001b[0m\u001b[0;34m[\u001b[0m\u001b[0mk\u001b[0m\u001b[0;34m]\u001b[0m \u001b[0;34m=\u001b[0m \u001b[0;36m0\u001b[0m \u001b[0;31m#después de la llamada lo liberamos\u001b[0m\u001b[0;34m\u001b[0m\u001b[0;34m\u001b[0m\u001b[0m\n\u001b[1;32m     25\u001b[0m \u001b[0;34m\u001b[0m\u001b[0m\n",
            "\u001b[0;32m<ipython-input-104-c5dc0e01134a>\u001b[0m in \u001b[0;36mmagic_square_optmz\u001b[0;34m(C, M, i, j)\u001b[0m\n\u001b[1;32m      2\u001b[0m   \u001b[0mres\u001b[0m \u001b[0;34m=\u001b[0m \u001b[0;36m0\u001b[0m\u001b[0;34m\u001b[0m\u001b[0;34m\u001b[0m\u001b[0m\n\u001b[1;32m      3\u001b[0m   \u001b[0mn\u001b[0m \u001b[0;34m=\u001b[0m \u001b[0mlen\u001b[0m\u001b[0;34m(\u001b[0m\u001b[0mM\u001b[0m\u001b[0;34m)\u001b[0m\u001b[0;34m\u001b[0m\u001b[0;34m\u001b[0m\u001b[0m\n\u001b[0;32m----> 4\u001b[0;31m   \u001b[0mmagic_num\u001b[0m \u001b[0;34m=\u001b[0m \u001b[0mcalc_magic_num\u001b[0m\u001b[0;34m(\u001b[0m\u001b[0mn\u001b[0m\u001b[0;34m)\u001b[0m\u001b[0;34m\u001b[0m\u001b[0;34m\u001b[0m\u001b[0m\n\u001b[0m\u001b[1;32m      5\u001b[0m   \u001b[0;32mif\u001b[0m \u001b[0mi\u001b[0m \u001b[0;34m==\u001b[0m \u001b[0mn\u001b[0m\u001b[0;34m:\u001b[0m\u001b[0;34m\u001b[0m\u001b[0;34m\u001b[0m\u001b[0m\n\u001b[1;32m      6\u001b[0m     \u001b[0;32mif\u001b[0m \u001b[0mvalido\u001b[0m\u001b[0;34m(\u001b[0m\u001b[0mM\u001b[0m\u001b[0;34m)\u001b[0m\u001b[0;34m:\u001b[0m \u001b[0;31m#sumaremos una res si la matriz es buena\u001b[0m\u001b[0;34m\u001b[0m\u001b[0;34m\u001b[0m\u001b[0m\n",
            "\u001b[0;31mKeyboardInterrupt\u001b[0m: "
          ]
        }
      ],
      "source": [
        "inicio = time.time()\n",
        "for matriz, values in tests:\n",
        "  n = len(matriz)\n",
        "  soluciones = magic_square_optmz(values, matriz, 0, 0)\n",
        "  print(f\"Para una matriz de tamaño {n} x {n} tenemos {soluciones} soluciones.\")\n",
        "  print(\"\")\n",
        "fin = time.time()\n",
        "print(f\"Tardamos {fin - inicio} segundos con la función optimizada\")"
      ]
    },
    {
      "cell_type": "code",
      "execution_count": null,
      "metadata": {
        "colab": {
          "base_uri": "https://localhost:8080/"
        },
        "id": "pgi9rtZGLICx",
        "outputId": "4cd20387-eb8e-4060-f9fc-0f36ab26a295"
      },
      "outputs": [
        {
          "data": {
            "text/plain": [
              "True"
            ]
          },
          "execution_count": 67,
          "metadata": {},
          "output_type": "execute_result"
        }
      ],
      "source": [
        "m_prueba = [[2, 7, 6],\n",
        "            [9, 5, 1],\n",
        "            [4, 3, 8]]\n",
        "\n",
        "valido(m_prueba)"
      ]
    },
    {
      "cell_type": "code",
      "execution_count": null,
      "metadata": {
        "colab": {
          "base_uri": "https://localhost:8080/"
        },
        "id": "_tPGr5tvTemL",
        "outputId": "c6943557-3b38-4d56-9d76-d92beac06875"
      },
      "outputs": [
        {
          "data": {
            "text/plain": [
              "False"
            ]
          },
          "execution_count": 71,
          "metadata": {},
          "output_type": "execute_result"
        }
      ],
      "source": [
        "m_prueba_2 = [[9, 8, 8],\n",
        "              [7, 6, 4],\n",
        "              [3, 2, 1]]\n",
        "\n",
        "valido(m_prueba_2)"
      ]
    },
    {
      "cell_type": "markdown",
      "metadata": {
        "id": "Qejeqh5EVPkb"
      },
      "source": [
        "Faltaría ir checkeando que la suma parcial de las dos diagonales sea menor al número mágico, pero es una boludez y estoy quemado, se deja como implementación para el lector (?"
      ]
    },
    {
      "cell_type": "markdown",
      "metadata": {
        "id": "d86axDPuc-oR"
      },
      "source": [
        "# Ejercicio 3 - MaxiSubconjuntos"
      ]
    },
    {
      "cell_type": "markdown",
      "metadata": {
        "id": "OHEEhOdYdAHp"
      },
      "source": [
        "Dada una matriz simétrica $M$ de $n × n$ números naturales y un número $k$, queremos encontrar\n",
        "un subconjunto $I$ de $\\{1, . . . , n\\}$ con $|I| = k$ que maximice $\\sum_{i, j ∈ {M}}{M_{ij}}$\n",
        ". Por ejemplo, si $k = 3$ y\n",
        "$M$ =\n",
        "\n",
        "\\begin{pmatrix}\n",
        "0 & 10 & 10 & 1 \\\\\n",
        "- & 0 & 5 & 2 \\\\\n",
        "- & - & 0 & 1 \\\\\n",
        "- & - & - & 0 \\\\\n",
        "\\end{pmatrix}\n",
        "\n",
        "\n",
        "entonces $I = \\{1, 2, 3\\}$ es una solución óptima."
      ]
    },
    {
      "cell_type": "markdown",
      "metadata": {
        "id": "VllT1dcZfoPX"
      },
      "source": [
        "a) Diseñar un algoritmo de backtracking para resolver el problema, indicando claramente cómo\n",
        "se codifica una solución candidata, cuáles soluciones son válidas y qué valor tienen, qué es\n",
        "una solución parcial y cómo se extiende cada solución parcial."
      ]
    },
    {
      "cell_type": "markdown",
      "metadata": {
        "id": "Nm5B4Vmqfpjd"
      },
      "source": [
        "Comencemos pensando cómo sería hacer esto por *fuerza bruta*:\n",
        "\n",
        "Tenemos que conseguir todas las combinaciones posibles de indices tal que $|I| = k$ y luego tomar la que maximice la función (suma) que nos dieron. Pero como $i$ y $j$ son índices válidos de $M$, debe valer que $1 \\leq i, j \\leq n$. O sea, dados todos los subconjuntos de $\\{1, .., n\\}$ de $k$ elementos, el número combinatorio\n",
        "\n",
        "\\begin{pmatrix}\n",
        "n \\\\\n",
        "k \\\\\n",
        "\\end{pmatrix}\n",
        "\n",
        "es el tamaño del espacio de búsqueda.\n",
        "\n",
        "Aunque hay que tener esto en consideración: dada que nuestra matriz es simétrica, nos basta valernos de buscar esta suma de sólo uno de sus lados respecto de la diagonal (supongamos el derecho). La función de suma que nos dan *prueba* todas las combinaciones de celdas para los $i, j$ dados, es decir: las tuplas $(i, j)$ pero también $(j, i)$. Nos basta con tomar una sola.\n",
        "\n",
        "A modo de idea, podemos pensar que vale asumir que tenemos:\n",
        "\n",
        "- Nuestra matriz.\n",
        "- $k$ el tamaño de la solución.\n",
        "- La mejor solución conocida hasta ahora.\n",
        "- La solución parcial actual que estamos viendo.\n",
        "- La cantidad de elementos que tiene la solución parcial.\n",
        "- Hemos visto todas las posibilidades con los elementos que van desde 1 hasta $j-1$, suponiendo también que tenemos un vector $(a_1, a_2, .., a_{j-1}, a_j, ..., a_{n-1}, a_n)$ con todos los elems posibles.\n",
        "\n",
        "Obviamente, nuestra solución parcial será tenida en cuenta una vez $i$ = cantidad de elementos de ésta sea igual a $k$\n",
        "\n",
        "Pensemos que primero no tiene elementos elegidos.\n",
        "\n",
        "Entonces, $i=0$ crecerá hasta llegar a $k$ y ahí decidiremos si actualizar la mejor solución conocida hasta ahora.\n",
        "\n",
        "Si $j=N$ el tamaño de la matriz, puedo decir que ya he visto todas las posibles combinaciones, y tengo la mejor.\n",
        "\n",
        "En cualquier otro caso, para un elemento cualquiera, puedo elegir si tenerlo en cuenta o no.\n",
        "\n",
        "$\\underline{\\text{Nota:}}$ si tenemos una matriz de tamaño 5 x 5, y queremos la maxima suma para $k=4$, básicamente el conjunto base es $\\{1, 2, 3, 4, 5\\}$, los índices válidos (obviamente desde cero en python, c++, java, etc). Por lo que, lo que estamos añadiendo no son combinaciones de pares $(i, j)$, si no de $j$ a secas;\n",
        "\n",
        "Agrego el 1 o no lo agrego $\\rightarrow$ NO/SI, Agrego el 2 o no lo agrego  $\\rightarrow$ NO/SI, Agrego el 3 o no lo agrego.\n",
        "\n",
        "Cada **SI** va incrementando el valor de $i$, la cantidad de elementos que ya hemos tomado, hasta llegar a $i=k$ donde tenemos que ver si la solución que tenemos es mejor que la anterior guardada.\n",
        "\n",
        "Cada **NO** mantiene igual a $i$, pero aumenta el valor de $j$, el índice al que vamos a ver si tomar o no en cuenta.\n",
        "\n",
        "*Algoritmo propuesto*\n",
        "\n",
        "```\n",
        "1) maxi_subconjunto(M, mejor_sol, partial_sol, i, j, k):\n",
        "2)            n = len(M)\n",
        "2)            si i == k: #la solución parcial ya tiene la cantidad de elementos pedidos\n",
        "3)                si partial_sol.suma() > mejor_sol.suma():\n",
        "4)                   mejor_sol = partial_sol\n",
        "5)            else si j == n: #ya vimos todos los indice posibles\n",
        "6)                 return #finaliza\n",
        "6)            else: #nos faltan elems por ver y nuestra solución todavía no tiene k\n",
        "7)                 maxi_subconjunto(M, mejor_sol, partial_sol, i, j+1, k) #no agrregamos el j-ésimo elemento, pasamos al siguiente\n",
        "8)                 partial_sol.add(M, j) #agregamos el jésimo elemento\n",
        "9)                 maxi_subconjunto(M, mejor_sol, partial_sol, i+1, j+1, k) #como lo agregamos, se incrementa el tamaño de partial_sol\n",
        "10)                partial_sol.remove(M, j) #es necesario porque estamos siempre pasando por referencia a partial_sol\n",
        "```\n"
      ]
    },
    {
      "cell_type": "markdown",
      "metadata": {
        "id": "fvhGW4s7EH0Y"
      },
      "source": [
        "**Implementación**"
      ]
    },
    {
      "cell_type": "code",
      "execution_count": null,
      "metadata": {
        "id": "k_0c0x18ELpC"
      },
      "outputs": [],
      "source": [
        "class Solution:\n",
        "  #bitmask = lista de 0s y 1s de tamaño n para decidir si un elemento fue elegido o no\n",
        "\n",
        "  def __init__(self, n): #n = largo de la matriz = cantidad de índices\n",
        "    self.bitmask = [0 for _ in range(0, n)]\n",
        "    self.sum = -1\n",
        "\n",
        "  #cada que agregamos un indice, su valor en el bistmask se hace 1 (True)\n",
        "  def add_elem(self, M, j):\n",
        "    self.bitmask[j] = 1\n",
        "    self.update_sum(M) #actualizamos la suma teniendo en cuenta a este indice\n",
        "\n",
        "  #cada que quitamos un índice, su valor en el bitmask se hace 0 (False)\n",
        "  def remove_elem(self, M, j):\n",
        "    self.bitmask[j] = 0\n",
        "    self.update_sum(M) #actualizamos la suma sin tener en cuenta ese indice\n",
        "\n",
        "  def update(self, M, partial_solution):\n",
        "    self.bitmask = partial_solution.bitmask.copy()\n",
        "    self.update_sum(M)\n",
        "\n",
        "  #función para devolver la suma\n",
        "  def get_sum(self):\n",
        "    return self.sum\n",
        "\n",
        "  def update_sum(self, M):\n",
        "    suma = 0\n",
        "    for i in range(0, len(M)):\n",
        "      for j in range(i, len(M)): #podría ser range(0, len(M)), pero no hace falta, puesto que la matriz es simétrica, basta considerar uno solo de los lados\n",
        "        if self.bitmask[i] == 1 and self.bitmask[j] == 1: #como tenemos pares (i, j), ambos valores en el bitmask deben ser True para sumar ese elem de M\n",
        "          suma += M[i][j]\n",
        "\n",
        "    self.sum = suma\n",
        "\n",
        "  def show_solution(self):\n",
        "    subconjunto_sol = []\n",
        "    for indice in range(0, len(self.bitmask)):\n",
        "      if self.bitmask[indice] == 1:\n",
        "        subconjunto_sol.append(indice+1) #el +1 es porque se supone que las matrices están indexadas desde 1, no 0\n",
        "    print(f\"La mejor solución hallada para k = {len(subconjunto_sol)} es {subconjunto_sol}\")"
      ]
    },
    {
      "cell_type": "code",
      "execution_count": null,
      "metadata": {
        "id": "YlK8Y9DcHpaE"
      },
      "outputs": [],
      "source": [
        "def maxi_subconjunto(M, mejor_sol, partial_sol, i, j, k):\n",
        "  n = len(M)\n",
        "  if i == k: #esta solución parcial ya tiene k elems activos\n",
        "    if partial_sol.get_sum() > mejor_sol.get_sum():\n",
        "       mejor_sol.update(M, partial_sol)\n",
        "  elif j == n: #ya vi todos los elems\n",
        "    return\n",
        "  else:\n",
        "    #en un caso no agrego el j-ésimo elemento, paso al siguiente\n",
        "    maxi_subconjunto(M, mejor_sol, partial_sol, i, j+1, k)\n",
        "    #en otro sí lo agrego\n",
        "    partial_sol.add_elem(M, j)\n",
        "    maxi_subconjunto(M, mejor_sol, partial_sol, i+1, j+1, k)\n",
        "    partial_sol.remove_elem(M, j) #y luego lo quito para que no haya problema cuando se retroceda entre nodos"
      ]
    },
    {
      "cell_type": "code",
      "execution_count": null,
      "metadata": {
        "id": "GgGZZHusI9KQ"
      },
      "outputs": [],
      "source": [
        "matriz_maxi_subconjunto = [[0, 10, 10, 1],\n",
        "                           [10, 0, 5, 2],\n",
        "                           [10, 5, 0, 1],\n",
        "                           [1, 2, 1, 0]]"
      ]
    },
    {
      "cell_type": "code",
      "execution_count": null,
      "metadata": {
        "colab": {
          "base_uri": "https://localhost:8080/"
        },
        "id": "bOFiC5rDLKb2",
        "outputId": "b0e830c8-53da-4f13-e033-097b0befb51e"
      },
      "outputs": [
        {
          "name": "stdout",
          "output_type": "stream",
          "text": [
            "La mejor solución hallada para k = 3 es [1, 2, 3]\n"
          ]
        }
      ],
      "source": [
        "n = len(matriz_maxi_subconjunto)\n",
        "mejor_solution = Solution(n) #bitmask de puros 0s y suma = -1\n",
        "partial_solution = Solution(n)\n",
        "maxi_subconjunto(matriz_maxi_subconjunto, mejor_solution, partial_solution, 0, 0, 3)\n",
        "mejor_solution.show_solution() #este objeto será modificado"
      ]
    },
    {
      "cell_type": "code",
      "execution_count": null,
      "metadata": {
        "colab": {
          "base_uri": "https://localhost:8080/"
        },
        "id": "8iAdM3coJMjK",
        "outputId": "a77ebc6d-35ef-44fe-8f67-aadaafe7c9d2"
      },
      "outputs": [
        {
          "name": "stdout",
          "output_type": "stream",
          "text": [
            "La mejor solución hallada para k = 1 es [4]\n",
            "La mejor solución hallada para k = 2 es [1, 3]\n",
            "La mejor solución hallada para k = 3 es [1, 2, 3]\n",
            "La mejor solución hallada para k = 4 es [1, 2, 3, 4]\n"
          ]
        }
      ],
      "source": [
        "for k in range(1, 5): #[1, 2, 3, 4]\n",
        "    n = len(matriz_maxi_subconjunto)\n",
        "    mejor_solution = Solution(n) #bitmask de puros 0s y suma = -1\n",
        "    partial_solution = Solution(n)\n",
        "    maxi_subconjunto(matriz_maxi_subconjunto, mejor_solution, partial_solution, 0, 0, k)\n",
        "    mejor_solution.show_solution() #este objeto será modificado"
      ]
    },
    {
      "cell_type": "markdown",
      "metadata": {
        "id": "dkfXXT1DODjZ"
      },
      "source": [
        "Ese [4] representaría al índice 3 en Python, o sea a M[3][3] = 0, está mal. El resto están bien."
      ]
    },
    {
      "cell_type": "markdown",
      "metadata": {
        "id": "7R8KFUWHPdw3"
      },
      "source": [
        "b) Calcular la complejidad temporal y espacial del mismo.\n",
        "\n",
        "Tenemos que tener en cuenta la cantidad de nodos que se generan y el costo asociado a cada uno de ellos.\n",
        "\n",
        "Inicialmente nuestras soluciones están vacías (o sea que su bitmask son puros ceros) y se van a terminar por generar todos los subconjuntos de $k$ elementos de los índices $\\{1, 2, ..., n-1, n\\}$ de la matriz. O sea que, el arbol final tendrá\n",
        "\n",
        "\\begin{pmatrix}\n",
        "n \\\\\n",
        "k \\\\\n",
        "\\end{pmatrix}\n",
        "\n",
        "que es $\\frac{n!}{k!(n-k)!}$\n",
        "\n",
        "Pero hay que notar algo, también se están generando todos los subconjuntos combinatorios de tipo $\\binom{n}{1}$, $\\binom{n}{2}$, ..., $\\binom{n}{k-1}$ y $\\binom{n}{k}$, o sea, la cantidad de nodos totales es\n",
        "\n",
        "$\\sum_{r=0}^{k} \\binom{n}{r}$\n",
        "\n",
        "puesto que por ejemplo, si tengo $k=3$, habrán recursiones que sólo tomen dos elementos y lleguen igual a $j=n$ pero no a $i=k$, cayendo en la segunda guarda.\n",
        "\n",
        "Ahora bien, los números combinatorios de un $n$ dado crecen mucho hasta llegar a un $n/2$, luego comienzan a decrecer, puesto que son simétricos.\n",
        "\n",
        "Entonces, el término más grande de esa suma, el dominante, será\n",
        "\n",
        "$\\binom{n}{k} \\text{ si } k \\leq n/2$\n",
        "\n",
        "$\\binom{n}{n-k} \\text{ si } k > n/2$\n",
        "\n",
        "Como son simétricos, un caso es análogo al otro, consideremos $k <= n/2$\n",
        "\n",
        "Por ser la sumatoria previa difícil de calcular, supongamos directamente que todos sus términos son $\\binom{n}{k}$, lo hacemos puesto que lo que queremos es una cota superior, entonces\n",
        "\n",
        "$\\sum_{r=0}^{k} \\binom{n}{k}$ = $k \\times \\binom{n}{k}$ = $k \\times \\frac{n!}{k!(n-k)!}$ = $\\frac{n!}{(k-1)!(n-k)!}$\n",
        "\n",
        "y podemos tomar eso como cota superior para la cantidad de nodos.\n",
        "\n",
        "Ahora bien, ¿Cuánto cuesta cada uno? Va a depender de la operación de `add_elem` y `remove_elem`, puesto que todo el resto lo estamos pasando por referencia. Estas funciones acceden a una posición del bitmask, podemos suponerlo $O(1)$ y la modifican. Pero además, recalculan la suma. Para eso, deben iterar a lo largo de todo el bitmask dos veces, puesto que para acceder a las celdas de la matriz necesitamos la fila y la columna. Aunque sea simétrica, en el peor caso hay que recorrer a todo el bitmask (pues podría ser que el último elemento sea True), cosa que hacemos dos veces (porque tenemos dos for). El bitmask es de tamaño $n$, por lo que asumamos esto como $O(n^2)$.\n",
        "\n",
        "Así, la complejidad temporal del algoritmo será algo así de\n",
        "\n",
        "$O(\\frac{n^2n!}{(k-1)!(n-k)!})$\n",
        "\n",
        "$\\underline{\\text{Nota}}$: Sí, es horrible, pero el bot me dijo que tiene sentido dado mi análisis. Capaz pueda quedar mejor si burdamente consideramos $k = n/2$ en el combinatorio, que es cuando más grande es aquel.\n",
        "\n",
        "si reemplazamos por eso:\n",
        "\n",
        "$\\sum_{r=0}^{k} \\binom{n}{n/2}$ = $k \\times \\binom{n}{n/2}$ = $k \\times \\frac{n!}{(n/2)!(n-n/2)!}$ = $ k \\times \\frac{n!}{(n/2)!(n/2)!}$\n",
        "\n",
        "Esto es sencillo de acotar, puesto que $(n/2)! \\geq 1$, entonces **no** dividir por éstos da un número más grande que si dividieramos, es decir:\n",
        "\n",
        "$ k \\times \\frac{n!}{(n/2)!(n/2)!} \\leq k \\times n!$\n",
        "\n",
        "o sea que temporalmente el algoritmo es $O(k \\times n!)$ y no está tan feo como antes (aunque es una cota más alta.)\n",
        "\n",
        "\n",
        "¿Y la espacial?\n",
        "\n",
        "La única estructura que estamos creando y que, nos podría preocupar, son los `Solution`, pues tienen cada uno un arreglo de tamaño $n$, el bitmask. Pero como sólo los creamos antes de llamar a la función, y luego pasamos todo por referencia, parece razonable considerar que la complejidad es $n + n = O(n)$, pues no vamos a crear nada más.\n",
        "\n",
        "\n"
      ]
    },
    {
      "cell_type": "markdown",
      "metadata": {
        "id": "Vd70DKwWQHea"
      },
      "source": [
        "c) Proponer una poda por optimalidad y mostrar que es correcta.\n",
        "\n",
        "\n",
        "Optimalidad: Si alcanzamos T (algo que va contra nuestro objetivo) antes de considerar todos los elementos, detenemos esa rama, ¿Cómo hacerlo acá?\n",
        "\n",
        "El objetivo es alcanzar la suma máxima. Pero ni idea.\n",
        "\n",
        "Capaz cuenta como poda que si $j = n$ no hacemos nada, puesto que, si entramos en esa guarda, significa que tenemos una cantidad de elementos menor a $k$ en nuestra solución, o sea que $i < k$, y esta claro que no vale la pena comparar con esa solución parcial con la mejor hasta el momento puesto que, por ejemplo:\n",
        "\n",
        "Si queremos $k=3$ y terminamos con un subconjunto $\\{a_1, a_2\\}$, cualquier otro subconjunto de la pinta $\\{a_1, a_2, a_i\\}$ le va a ganar (considerando todos los elementos de la matriz como positivos, claro), y como la comparación es costosa (dado que tenemos que recorrer todo nuestro bitmask dos veces en el peor caso $O(n^2)$ como vimos antes)\n",
        "\n",
        "$\\underline{\\text{Nota}}$: el bot me dijo que debería pensar en alguna manera de detener una rama si es que sé que la mejor solución no la voy a obtener por una en particular dadas las elecciones que hice. Me recomendó algo así:\n",
        "\n",
        "```\n",
        "\n",
        "    1) Cálculo de la suma potencial máxima: Para cada solución parcial,\n",
        "    calcula la suma de los elementos seleccionados hasta el momento.\n",
        "    Luego, para las posiciones restantes hasta alcanzar k, asume que\n",
        "    seleccionas los elementos de mayor valor posible restantes en la\n",
        "    matriz. Esto te dará una suma potencial máxima para la solución\n",
        "    parcial actual.\n",
        "    2) Comparación y poda: Si esta suma potencial máxima es menor o igual\n",
        "     a la suma de la mejor solución encontrada hasta ahora, no tiene\n",
        "     sentido continuar explorando esa rama, ya que sabemos que no va a\n",
        "     resultar en una solución mejor.\n",
        "\n",
        "```\n",
        "\n",
        "O sea, básicamente debería seleccionar los $k$ elementos más grandes y guardarmelos en algún lado. Si ya he elegido a $j$, entonces supongo que en las siguientes recursiones elegiré a los $k-j$ más grandes posibles y llamo a eso *suma potencial máxima*. Si ni con eso logro superar a la mayor suma que tengo hasta el momento, entonces no sigo por esa rama. Tiene sentido.\n",
        "\n",
        "Obviamente, debería tener calculados de antemano a aquellos, para lo que sólo necesito mitad de la matriz (por ser simétrica), podría ordenarla en obtener los elementos más grandes en $O(n^2 + k \\times log \\ n^2/2)$ con un max heap hecho con el algoritmo de Floyd en $O(n^2/2)=O(n^2)$ y luego desencolando los primeros $k$ elementos. Me los guardo en un arreglo y chau."
      ]
    },
    {
      "cell_type": "markdown",
      "metadata": {
        "id": "Bz83Tx5GvhP6"
      },
      "source": [
        "# Ejercicio 4 - RutaMinima"
      ]
    },
    {
      "cell_type": "markdown",
      "metadata": {
        "id": "Cj4pAGQOvrqa"
      },
      "source": [
        "Dada una matriz $D$ de $n × n$ números naturales, queremos encontrar una permutación $π$ de $\\{1, . . . , n\\}$ que minimice $D_{π(n)π(1)} + \\sum_{i=1}^{n−1}{D_{π(i)π(i+1)}}$. Por ejemplo, si $D = $\n",
        "\n",
        "\\begin{pmatrix}\n",
        "0 & 1 & 10 & 10 \\\\\n",
        "10 & 0 & 3 & 15 \\\\\n",
        "21 & 17 & 0 & 2 \\\\\n",
        "3 & 22 & 30 & 0 \\\\\n",
        "\\end{pmatrix}\n",
        "\n",
        "Entonces $π(i) = i$ es una solución óptima."
      ]
    },
    {
      "cell_type": "markdown",
      "metadata": {
        "id": "npdIOejLyAzN"
      },
      "source": [
        "a) Diseñar un algoritmo de backtracking para resolver el problema, indicando claramente cómo\n",
        "se codifica una solución candidata, cuáles soluciones son válidas y qué valor tienen, qué es\n",
        "una solución parcial y cómo se extiende cada solución parcial.\n",
        "\n",
        "$pi(x)$ es una función biyectiva de $\\{1, ..., n\\} \\rightarrow \\{1, ..., n\\}$ que me cambia los índices de la matriz, entonces:\n",
        "\n",
        "$D_{\\pi(n)\\pi(1)}$ es el elemento en la fila $\\pi(n)$ y columna $\\pi(1)$. Análogo con $D_{π(i)π(i+1)}$.\n",
        "\n",
        "Así, expandiendo la sumatoria se tendría algo como:\n",
        "\n",
        "$D_{π(n)π(1)} + D_{π(1)π(2)} +  D_{π(2)π(3)} +  D_{π(3)π(4)} + ... +  D_{π(n-2)π(n-1)} +  D_{π(n-1)π(n)}$\n",
        "\n",
        "Es como si diésemos una vuelta. Entonces,  $π(i)=i$ es solución óptima porque\n",
        "\n",
        "$D_{π(4)π(1)} + D_{π(1)π(2)} +  D_{π(2)π(3)} +  D_{π(3)π(4)} = D_{4,1} + D_{1,2} + D_{2,3} + D_{3,4} = 3 + 1 + 3 + 2 = 9 $\n",
        "\n",
        "es la suma de los elementos más pequeños de la matriz.\n",
        "\n",
        "Ahora bien, ¿Cómo definir una función biyectiva? Basta tener un arreglo de tamaño $n$ que nos diga en qué orden debemos visitar nuestros elementos. ¿Cuántas permutaciones tiene este arreglo? $n!$, que es lo que sabemos de *Álgebra 1* la cantidad de funciones biyectivas de un conjunto de cardinal $n$ en otro $n$.\n",
        "\n",
        "A *fuerza bruta*, la cosa es generar todas las permutaciones de un arreglo de $n$ con $1 \\leq a_i \\leq n$ para todos sus $a_i$ distintos entre sí. Ya sabemos hacerlo, es como con los *MagicSquares*. Un *bitmask* y un for con llamadas recursivas a cada elemento de aquel que todavía esté disponible.\n",
        "\n",
        "*Algoritmo propuesto*\n",
        "\n",
        "```\n",
        "1) ruta_minima(M, C, k, actual_perm, best_perm):\n",
        "2)        n = len(m)\n",
        "3)        si k == n: #ya elegimos todos los elems en actual_perm:\n",
        "4)           actual_sum = suma_ruta(M, actual_perm)\n",
        "5)           min_sum = suma_ruta(M, best_perm)\n",
        "6)           si actual_sum < min_sum:\n",
        "7)              best_perm = actual_perm\n",
        "8)        else: #todavía hay que elegir índice en actual_perm\n",
        "9)           for j in range(0, n):\n",
        "10)              if C[j] == 0: #si no está en uso este índice\n",
        "11)                 C[j] = 1 #lo ponemos en uso\n",
        "12)                 actual_perm.append(j) #nos lo guardamos\n",
        "13)                 ruta_minima(M, C, k+1, actual_perm, best_perm) #hacemos el caso recursivo en el que lo elegimos acá\n",
        "14)                 actual_perm.pop() #lo quitamos para no ocasionar problemas al hacer el back entre nodos\n",
        "15)                 C[j] = 0 #liberamos este índice\n",
        "```\n",
        "\n",
        "Donde $M$ es la matriz, $C$ un *bitmask* para los índices, $k$ la cantidad de elementos que tiene *actual_perm* hasta ahora y *best_perm* la permutación que más minimiza la función que nos dieron hasta ahora.\n",
        "\n",
        "¿Cómo funciona?\n",
        "\n",
        "Llamamos inicialmente a la función con\n",
        "\n",
        "```\n",
        "M = ...la matriz...\n",
        "n = len(M)\n",
        "actual_perm = []\n",
        "best_perm = [] #definiremos la suma como 0 para listas vacías\n",
        "C = [0 for _ in range(n)]\n",
        "ruta_minima(M, C, 0, actual_perm, best_perm):\n",
        "```\n",
        "\n",
        "Entonces, la *actual_perm* es vacía, entrará en el `for` y todos los elementos de $C$ estarán inicialmente disponibles, por lo que, en última instancia, \"pasará\" por el `if` de cada uno de ellos.\n",
        "\n",
        "Ahora bien, para una de las iteraciones particulares de este `for`, sin pérdida de generalidad tomemos la de $j=0$, se agregará este elemento a la lista, por lo que ahora *actual_perm* será igual a [0] y $C = [1, 0, 0, ..., 0]$, puesto que debemos memorizar qué elementos ya hemos usado.\n",
        "\n",
        "Al hacer la siguiente llamada recursiva, *actual_perm* no podrá acceder a todos los `if` del `for`, porque cuando se pregunte si $C[0] == 0$ obtendrá `false`, es decir: ahora tiene $n-1$ elementos a los que elegir para poner en la siguiente posición de esta lista. Luego serán $n-2$ y así hasta que ya no hay más para poner. Entonces, tendremos una permutación, una solución candidata.\n",
        "\n",
        "Dada esta solución, debemos evaluar si es mejor que la que ya teníamos viendo si, calculando la suma tal y como nos la plantea el ejercicio, obtenemos un valor menor que el propio de la anterior mejor permutación.\n",
        "\n",
        "Esto actualizará o no a aquella lista, y volverá hacia atrás en el árbol formado.\n",
        "\n",
        "Quitaremos el último elemento que habíamos agregado a *actual_perm* y le diremos a $C$ que éste vuelve a estar disponible.\n",
        "\n",
        "Se pasará a otra iteración del `for` y se repetirá el proceso.\n",
        "\n",
        "¿Qué podas podemos hacer?\n",
        "\n",
        "Queremos que la permutación minimice la suma que nos dan, ¿Y si ya la supera antes de incluso terminar la lista? Obviamente asumiendo elementos mayores o iguales a ceros, se ve que no será una solución buena, aunque sea factible seguir (porque tiene sentido hacerlo), pero no será óptimo."
      ]
    },
    {
      "cell_type": "markdown",
      "metadata": {
        "id": "jAIfOUdKJ9Qf"
      },
      "source": [
        "**Implementación**"
      ]
    },
    {
      "cell_type": "code",
      "execution_count": null,
      "metadata": {
        "id": "hq8TCMgaV5fZ"
      },
      "outputs": [],
      "source": [
        "class Solution_ruta_minima():\n",
        "\n",
        "  def __init__(self):\n",
        "    self.perm = []\n",
        "    self.sum = -1\n",
        "\n",
        "  def add_elem(self, M, i):\n",
        "    self.perm.append(i)\n",
        "    self.update_sum(M)\n",
        "\n",
        "  def pop_elem(self, M):\n",
        "    self.perm.pop()\n",
        "    self.update_sum(M)\n",
        "\n",
        "  def get_sum(self):\n",
        "    return self.sum\n",
        "\n",
        "  def full_update(self, M, other_perm):\n",
        "    self.perm = other_perm.perm.copy()\n",
        "    self.update_sum(M)\n",
        "\n",
        "  def update_sum(self, M):\n",
        "    suma = 0\n",
        "    pi = self.perm\n",
        "    n = len(pi)\n",
        "    for i in range(0, len(pi)):\n",
        "      i_normal = pi[i]\n",
        "      i_mas_uno = pi[(i + 1) % n]\n",
        "      suma += M[i_normal][i_mas_uno]\n",
        "    self.sum = suma\n"
      ]
    },
    {
      "cell_type": "code",
      "execution_count": null,
      "metadata": {
        "id": "lhUwDztRQHHJ"
      },
      "outputs": [],
      "source": [
        "def ruta_minima(M, C, k, actual_perm, best_perm):\n",
        "  n = len(C)\n",
        "  if k == n:\n",
        "    actual_sum = actual_perm.get_sum()\n",
        "    min_sum = best_perm.get_sum()\n",
        "    if actual_sum < min_sum or min_sum == -1:\n",
        "      best_perm.full_update(M, actual_perm)\n",
        "      #print(\"Mejor perm\", best_perm.perm)\n",
        "      print(\"suma actual\", actual_sum)\n",
        "      print(\"suma anterior\", min_sum)\n",
        "      #print(\"Elementos que devuelve esa perm\", obtener_elems(M, best_perm.perm))\n",
        "  else:\n",
        "    for j in range(0, n):\n",
        "      if C[j] == 0: #elemento disponible\n",
        "         C[j] = 1 #lo voy a usar\n",
        "         actual_perm.add_elem(M, j) #agrego el índice\n",
        "         ruta_minima(M, C, k+1, actual_perm, best_perm) #veo qué debe ser best_perm si tomo este valor\n",
        "         C[j] = 0 #ya lo usé, le digo a C que vuelve a estar disponible\n",
        "         actual_perm.pop_elem(M) # lo quito para evitar problemas al viajar entre nodos hacia atrás\n",
        "\n",
        "def suma_ruta(M, pi):\n",
        "  suma = 0\n",
        "  n = len(pi)\n",
        "  for i in range(0, len(pi)):\n",
        "    i_normal = pi[i]\n",
        "    i_mas_uno = pi[(i + 1) % n] #en el caso en que i = n-1, i+1 = n lo pasa a i+1 = 0, que es el equivalente a D[pi(n)][pi(1)]\n",
        "    suma += M[i_normal][i_mas_uno]\n",
        "  return suma"
      ]
    },
    {
      "cell_type": "code",
      "execution_count": null,
      "metadata": {
        "id": "JQmYxDpSQjEg"
      },
      "outputs": [],
      "source": [
        "def obtener_elems(M, pi): #para verificar que es correcto lo que obtenemos, checkeemos que lo que nos da tiene sentido\n",
        "    elems_elegidos = []\n",
        "    n = len(pi)\n",
        "    for i in range(0, len(pi)):\n",
        "        i_normal = pi[i]\n",
        "        i_mas_uno = pi[(i + 1) % n]\n",
        "        elems_elegidos.append(M[i_normal][i_mas_uno])\n",
        "    return elems_elegidos"
      ]
    },
    {
      "cell_type": "code",
      "execution_count": null,
      "metadata": {
        "colab": {
          "base_uri": "https://localhost:8080/"
        },
        "id": "ZarSasL2MCRE",
        "outputId": "111aa584-4ed5-4afa-a188-84850b31268a"
      },
      "outputs": [
        {
          "data": {
            "text/plain": [
              "1"
            ]
          },
          "execution_count": 290,
          "metadata": {},
          "output_type": "execute_result"
        }
      ],
      "source": [
        "(20 + 3) % 22"
      ]
    },
    {
      "cell_type": "code",
      "execution_count": null,
      "metadata": {
        "id": "EJboIF4NMfQT"
      },
      "outputs": [],
      "source": [
        "matriz_d = [[0, 1, 10, 10],\n",
        "            [10, 0, 3, 5],\n",
        "            [21, 17, 0, 2],\n",
        "            [3, 22, 30, 0]]\n",
        "\n",
        "matriz_d1 = [[0, 5, 8],\n",
        "             [2, 0, 3],\n",
        "             [7, 1, 0]]\n",
        "\n",
        "matriz_d2 = [[0, 10, 5, 3],\n",
        "             [2, 0, 15, 8],\n",
        "             [7, 4, 0, 12],\n",
        "             [9, 6, 11, 0]]\n",
        "\n",
        "matriz_d3 = [[0, 8, 12, 6, 9],\n",
        "             [4, 0, 10, 7, 11],\n",
        "             [15, 3, 0, 13, 5],\n",
        "             [1, 14, 2, 0, 16],\n",
        "             [18, 17, 19, 20, 0]]"
      ]
    },
    {
      "cell_type": "code",
      "execution_count": null,
      "metadata": {
        "id": "0prihbsgOch6"
      },
      "outputs": [],
      "source": [
        "matrices_de_test = [matriz_d1, matriz_d2, matriz_d3]"
      ]
    },
    {
      "cell_type": "code",
      "execution_count": null,
      "metadata": {
        "colab": {
          "base_uri": "https://localhost:8080/"
        },
        "id": "t946rxU9Mvrl",
        "outputId": "5c6ae2a0-be9e-4771-f69d-2a6467de7f6f"
      },
      "outputs": [
        {
          "name": "stdout",
          "output_type": "stream",
          "text": [
            "suma actual 9\n",
            "suma anterior -1\n",
            "La mejor permutación es: [0, 1, 2, 3]\n",
            "Los elementos que agarra esta permutación son: [1, 3, 2, 3]\n"
          ]
        }
      ],
      "source": [
        "n = len(matriz_d)\n",
        "actual_perm = Solution_ruta_minima()\n",
        "best_perm = Solution_ruta_minima()\n",
        "C = [0 for _ in range(n)]\n",
        "\n",
        "ruta_minima(matriz_d, C, 0, actual_perm, best_perm)\n",
        "\n",
        "elementos_agarrados = obtener_elems(matriz_d, best_perm.perm)\n",
        "\n",
        "print(f\"La mejor permutación es: {best_perm.perm}\")\n",
        "print(f\"Los elementos que agarra esta permutación son: {elementos_agarrados}\")"
      ]
    },
    {
      "cell_type": "code",
      "execution_count": null,
      "metadata": {
        "colab": {
          "base_uri": "https://localhost:8080/"
        },
        "id": "F0ARylFtOiFQ",
        "outputId": "6bf3f69d-e30c-48e5-e99d-eb4fdbedc454"
      },
      "outputs": [
        {
          "name": "stdout",
          "output_type": "stream",
          "text": [
            "suma actual 15\n",
            "suma anterior -1\n",
            "suma actual 11\n",
            "suma anterior 15\n",
            "La mejor permutación es: [0, 2, 1]\n",
            "Los elementos que agarra esta permutación son: [8, 1, 2]\n",
            "\n",
            "---------------------------------\n",
            "\n",
            "suma actual 46\n",
            "suma anterior -1\n",
            "suma actual 36\n",
            "suma anterior 46\n",
            "suma actual 26\n",
            "suma anterior 36\n",
            "suma actual 25\n",
            "suma anterior 26\n",
            "suma actual 20\n",
            "suma anterior 25\n",
            "La mejor permutación es: [0, 3, 2, 1]\n",
            "Los elementos que agarra esta permutación son: [3, 11, 4, 2]\n",
            "\n",
            "---------------------------------\n",
            "\n",
            "suma actual 65\n",
            "suma anterior -1\n",
            "suma actual 44\n",
            "suma anterior 65\n",
            "suma actual 40\n",
            "suma anterior 44\n",
            "suma actual 34\n",
            "suma anterior 40\n",
            "La mejor permutación es: [0, 3, 2, 4, 1]\n",
            "Los elementos que agarra esta permutación son: [6, 2, 5, 17, 4]\n",
            "\n",
            "---------------------------------\n",
            "\n",
            "El algoritmo sin optimizar tardó 0.028174400329589844 segundos\n"
          ]
        }
      ],
      "source": [
        "inicio = time.time()\n",
        "\n",
        "for M in matrices_de_test:\n",
        "  n = len(M)\n",
        "  actual_perm = Solution_ruta_minima()\n",
        "  best_perm = Solution_ruta_minima() #una permutación identidad pi(i) = i\n",
        "  C = [0 for _ in range(n)]\n",
        "\n",
        "  ruta_minima(M, C, 0, actual_perm, best_perm)\n",
        "\n",
        "  elementos_agarrados = obtener_elems(M, best_perm.perm)\n",
        "\n",
        "  print(f\"La mejor permutación es: {best_perm.perm}\")\n",
        "  print(f\"Los elementos que agarra esta permutación son: {elementos_agarrados}\")\n",
        "  print(\"\")\n",
        "  print(\"---------------------------------\")\n",
        "  print(\"\")\n",
        "\n",
        "fin = time.time()\n",
        "\n",
        "print(f\"El algoritmo sin optimizar tardó {fin-inicio} segundos\")"
      ]
    },
    {
      "cell_type": "markdown",
      "metadata": {
        "id": "PjE_PEVbL6oF"
      },
      "source": [
        "b) Calcular la complejidad temporal y espacial del mismo.\n",
        "\n",
        "¿Temporal?\n",
        "\n",
        "Tengamos presente la cantidad de nodos creados y el costo asociado a cada uno:\n",
        "\n",
        "El primer nivel tiene un sólo nodo (lista vacía), al que tenemos $n$ elementos para elegir como el primer índice. Luego, *para cada uno de ellos*, vamos a tener que elegir otro índice de entre los $n-1$ que nos quedan, por lo que el siguiente nivel tiene $n (n-1)$ elementos. El siguiente será $n(n-1)(n-2)$... y seguirá hasta las hojas, que serán todas permutaciones de los índices de que disponemos, ¿Cuántas? Tantas como permutaciones hayan: $n!$.\n",
        "\n",
        "Se puede demostrar, similar a como hicimos con *MagicSquares* que la suma de *todos* los nodos tiene como cota superior a $O(n!)$.\n",
        "\n",
        "Sea $T(n) = n!/1! + n!/2! + ... + n!/(n-1)! + n!/n!$ la suma de todos nuestros nodos (a la izquierda el último nivel, a la derecha el primero), entonces consideramos el desarrollo de Taylor de $e$:\n",
        "\n",
        "$e = \\sum_{k=0}^{\\infty}{\\frac{1}{k!}}$\n",
        "\n",
        "multiplicando por $n!$ y separando en partes la sumatoria\n",
        "\n",
        "$e \\times n! = \\sum_{k=0}^{\\infty}{\\frac{n!}{k!}} = n! + \\sum_{k=1}^{n}{\\frac{n!}{k!}} + \\sum_{k=n+1}^{\\infty}{\\frac{n!}{k!}}$\n",
        "\n",
        "vemos que $T(n) = \\sum_{k=1}^{n}{\\frac{n!}{k!}}$  \n",
        "\n",
        "Luego, por ser $n!$ y $\\sum_{k=n+1}^{\\infty}{\\frac{n!}{k!}}$ ambos positivos, es válido decir que\n",
        "\n",
        "$T(n) \\leq n! + \\sum_{k=1}^{n}{\\frac{n!}{k!}} + \\sum_{k=n+1}^{\\infty}{\\frac{n!}{k!}}$\n",
        "\n",
        "$T(n) \\leq e \\times n!$\n",
        "\n",
        "pero $e$ es una constante, luego $T(n)$ está acotado superiormente por $n!$ por aquella, entonces vale decir que la cantidad total de nodos del árbol está acotada superiormente por $O(n!)$.\n",
        "\n",
        "Ahora bien, ¿Cuánto cuesta cada nodo?\n",
        "\n",
        "Estamos usando una clase *Solution_ruta_minima* que cada que se agregan elementos o quitan de la lista que tiene guarda recalcula la suma asociada a esos índices en la matriz. Como en el peor caso la lista tiene tamaño n, podemos decir que la suma tardará $O(n)$ en el peor caso.\n",
        "\n",
        "Luego, la cota temporal superior para el algoritmo es $O(n \\times n!)$.\n",
        "\n",
        "\\underline{\\text{Nota}}: Me dijo el bot y leí en otros lados que, dado que tiene tan poco peso $n$ asintóticamente, aún no siendo una constante, se puede simplificar y decir que $O(n!)=O(n \\times n!)$\n",
        "\n",
        "Respecto de la temporal, será $O(n)$, pues tendremos dos listas (o vectores, dependerá de la implementación) en las que vayamos guardando y quitando elementos, éstas serán de tamaño $n$ cada una."
      ]
    },
    {
      "cell_type": "markdown",
      "metadata": {
        "id": "cua6lbXXQMTR"
      },
      "source": [
        "c) Proponer una poda por optimalidad y mostrar que es correcta\n",
        "\n",
        "Ya la discutimos antes, la cuestión es que, si la suma parcial que tiene nustra *actual_perm* antes de llegar a los $n$ elementos ya supera a la suma de la *mejor_perm*, dado que todos los elementos de la matriz $M$ son mayores o iguales a cero, agregar más índices es sumar más elementos, no hay chance de que eso minimice aún más a nuestra función de suma, por lo que podemos decidir no seguir por esa rama.\n",
        "\n",
        "Vamos directamente a la implementación."
      ]
    },
    {
      "cell_type": "markdown",
      "metadata": {
        "id": "9bzSGVvSQ1LY"
      },
      "source": [
        "**Implementación**"
      ]
    },
    {
      "cell_type": "code",
      "execution_count": null,
      "metadata": {
        "id": "UUQPQbT_Q0zi"
      },
      "outputs": [],
      "source": [
        "def ruta_minima_optmz(M, C, k, actual_perm, best_perm):\n",
        "  n = len(C)\n",
        "  if k == n:\n",
        "    actual_sum = actual_perm.get_sum()\n",
        "    min_sum = best_perm.get_sum()\n",
        "    if actual_sum < min_sum or min_sum == -1:\n",
        "      best_perm.full_update(M, actual_perm)\n",
        "      print(\"suma actual\", actual_sum)\n",
        "      print(\"suma anterior\", min_sum)\n",
        "  else:\n",
        "    if actual_perm.get_sum() <= best_perm.get_sum() or best_perm.get_sum() == -1: #si es -1, es que todavía no tenemos una perm candidata, de a fuerzas hay que buscar\n",
        "       for j in range(0, n):\n",
        "         if C[j] == 0: #elemento disponible\n",
        "            C[j] = 1 #lo voy a usar\n",
        "            actual_perm.add_elem(M, j) #agrego el índice\n",
        "            ruta_minima_optmz(M, C, k+1, actual_perm, best_perm) #veo qué debe ser best_perm si tomo este valor\n",
        "            C[j] = 0 #ya lo usé, le digo a C que vuelve a estar disponible\n",
        "            actual_perm.pop_elem(M) # lo quito para evitar problemas al viajar entre nodos hacia atrás\n",
        "    else:\n",
        "      return\n"
      ]
    },
    {
      "cell_type": "code",
      "execution_count": null,
      "metadata": {
        "colab": {
          "base_uri": "https://localhost:8080/"
        },
        "id": "12m5y69URkBW",
        "outputId": "d8749429-3ce1-4b29-b086-f9ba4fd3cf9d"
      },
      "outputs": [
        {
          "name": "stdout",
          "output_type": "stream",
          "text": [
            "suma actual 15\n",
            "suma anterior -1\n",
            "suma actual 11\n",
            "suma anterior 15\n",
            "La mejor permutación con el algoritmo optimizado es: [0, 2, 1]\n",
            "Los elementos que agarra esta permutación son: [8, 1, 2]\n",
            "\n",
            "---------------------------------\n",
            "\n",
            "suma actual 46\n",
            "suma anterior -1\n",
            "suma actual 36\n",
            "suma anterior 46\n",
            "suma actual 26\n",
            "suma anterior 36\n",
            "suma actual 25\n",
            "suma anterior 26\n",
            "suma actual 20\n",
            "suma anterior 25\n",
            "La mejor permutación con el algoritmo optimizado es: [0, 3, 2, 1]\n",
            "Los elementos que agarra esta permutación son: [3, 11, 4, 2]\n",
            "\n",
            "---------------------------------\n",
            "\n",
            "suma actual 65\n",
            "suma anterior -1\n",
            "suma actual 44\n",
            "suma anterior 65\n",
            "suma actual 40\n",
            "suma anterior 44\n",
            "suma actual 34\n",
            "suma anterior 40\n",
            "La mejor permutación con el algoritmo optimizado es: [0, 3, 2, 4, 1]\n",
            "Los elementos que agarra esta permutación son: [6, 2, 5, 17, 4]\n",
            "\n",
            "---------------------------------\n",
            "\n",
            "El algoritmo optimizado tardó 0.0029375553131103516 segundos\n"
          ]
        }
      ],
      "source": [
        "inicio = time.time()\n",
        "\n",
        "for M in matrices_de_test:\n",
        "  n = len(M)\n",
        "  actual_perm = Solution_ruta_minima()\n",
        "  best_perm = Solution_ruta_minima() #una permutación identidad pi(i) = i\n",
        "  C = [0 for _ in range(n)]\n",
        "\n",
        "  ruta_minima_optmz(M, C, 0, actual_perm, best_perm)\n",
        "\n",
        "  elementos_agarrados = obtener_elems(M, best_perm.perm)\n",
        "\n",
        "  print(f\"La mejor permutación con el algoritmo optimizado es: {best_perm.perm}\")\n",
        "  print(f\"Los elementos que agarra esta permutación son: {elementos_agarrados}\")\n",
        "  print(\"\")\n",
        "  print(\"---------------------------------\")\n",
        "  print(\"\")\n",
        "\n",
        "fin = time.time()\n",
        "\n",
        "print(f\"El algoritmo optimizado tardó {fin - inicio} segundos\")"
      ]
    },
    {
      "cell_type": "markdown",
      "metadata": {
        "id": "IkifWBtBSW-R"
      },
      "source": [
        "Cuando yo lo corrí, dio esto:\n",
        "\n",
        "- Sin optimizar: 0.028174400329589844\n",
        "- Optimizado: 0.0029375553131103516\n",
        "\n",
        "O sea que este último resultó algo así de 10 veces mejor que el anterior."
      ]
    },
    {
      "cell_type": "markdown",
      "metadata": {
        "id": "fdfzE_hcYeBr"
      },
      "source": [
        "# Ejercicio 5 - SumaDinámica"
      ]
    },
    {
      "cell_type": "markdown",
      "metadata": {
        "id": "2unXjlDTFKzS"
      },
      "source": [
        "Es el problema de decidir si, dado un cojunto $C$, existe un conjunto de éste tal que la suma de todos sus elementos sea igual a una constante $k$."
      ]
    },
    {
      "cell_type": "markdown",
      "metadata": {
        "id": "-nFB6GLgFY20"
      },
      "source": [
        "$   \n",
        "ss’C (i, j) =\n",
        "     \\begin{cases}\n",
        "       \\text{$j = 0$} &\\quad\\text{si $i = 0$}\\\\\n",
        "       \\text{$ss’C (i-1, j)$} &\\quad\\text{si $i \\neq 0$ $\\land$ $C[i] > j$}\\\\\n",
        "       \\text{$ss’C (i-1, j) \\lor ss’C (i-1, j-C[i])$} &\\quad\\text{si no}\\\\\n",
        "     \\end{cases}\n",
        "$\n",
        "\n",
        "Convencerse de que esta es una definición equivalente de la función ss del inciso e) del\n",
        "Ejercicio 1, observando que $ss(C, k) = ss’C (n, k)$. En otras palabras, convencerse de que el\n",
        "algoritmo del inciso f ) es una implementación por backtracking de la función $ss’C$ . Concluir,\n",
        "pues, que $O(2^n)$ llamadas recursivas de ss’C son suficientes para resolver el problema."
      ]
    },
    {
      "cell_type": "markdown",
      "metadata": {
        "id": "Fwq-aVYCGydN"
      },
      "source": [
        "No hay muchi que ver, ya se discutió en el ejercicio 1. La cantidad de subconjuntos totales es $2^n$ para un conjunto de cardinal $n$, no debería haber dudas respecto de la cota."
      ]
    },
    {
      "cell_type": "markdown",
      "metadata": {
        "id": "4zBF2BRGHCNV"
      },
      "source": [
        "b) Observar que, como $C$ no cambia entre llamadas recursivas, existen $O(nk)$ posibles entradas\n",
        "para $ss’C$ . Concluir que, si $k ≪ 2^n/n$, entonces necesariamente algunas instancias de $ss’C$\n",
        "son calculadas muchas veces por el algoritmo del inciso f ). Mostrar un ejemplo donde se\n",
        "calcule varias veces la misma instancia."
      ]
    },
    {
      "cell_type": "markdown",
      "metadata": {
        "id": "60a9vq8HHPfY"
      },
      "source": [
        "La cantidad de entradas posibles son todos los pares $(i, j)$ que pueden pasarse como parámetro a la función.\n",
        "\n",
        "Nos dice el enunciado que la función se define en:\n",
        "\n",
        "$ss’C : \\{0, . . . , n\\} × \\{0, . . . , k\\} → \\{V, F \\}$\n",
        "\n",
        "O sea que $i$ puede tomar $n+1$ valores y $j$ (k+1), por lo que todas las posibles combinaciones son $(n+1)(k+1)$ o asintóticamente $O(nk)$.\n",
        "\n",
        "Si $k$ **NO** fuera mucho menor a $2^n/n$, entonces la cota superior sería $O(n2^n/n) = O(2^n)$.\n",
        "\n",
        "La del algoritmo de backtracking.\n",
        "\n",
        "Asumiendo que $k$ **SI** es mucho menor, es claro que hay instancias que se repiten, tomar $C$ pequeñito y ver que está claro en el dibujo del árbol."
      ]
    },
    {
      "cell_type": "markdown",
      "metadata": {
        "id": "kVKhujChKeyJ"
      },
      "source": [
        "c) Considerar la estructura de memoización (i.e., el diccionario) $M$ implementada como una\n",
        "matriz de $(n + 1) × (k + 1)$ tal que $M [i, j]$ o bien tiene un valor indefinido ⊥ o bien tiene el\n",
        "valor $ss’C (i, j)$, para todo $0 ≤ i ≤ n$ y $0 ≤ j ≤ k$. Convencerse de que el siguiente algoritmo\n",
        "*top-down* mantiene un estado válido para $M$ y computa $M [i, j] = ss’C (i, j)$ cuando se invoca\n",
        "$ss’C (i, j)$.\n",
        "\n",
        "```\n",
        "1) Inicializar M [i, j] = ⊥ para todo 0 ≤ i ≤ n y 0 ≤ j ≤ k.\n",
        "2) subset_sum(C, i, j): // implementa ss({c1, . . . , ci}, j) = ss’C (i, j) usando memoización\n",
        "3)    Si j < 0, retornar falso\n",
        "4)    Si i = 0, retornar (j = 0)\n",
        "5)    Si M [i, j] = ⊥:\n",
        "6)       Poner M [i, j] = subset_sum(C, i − 1, j) ∨ subset_sum(C, i − 1, j − C[i])\n",
        "7)    Retornar M [i, j]\n",
        "```"
      ]
    },
    {
      "cell_type": "markdown",
      "metadata": {
        "id": "xeygEqscK6Cw"
      },
      "source": [
        "Tendríamos dos casos base, el $j < 0$ en el que nos pasamos con la suma, ya no es factible seguir, y el de $i = 0$, en el que ya elegimos todos los elementos que pertencen al conjunto, debemos ver si la suma era la correcta con $j = 0$. Son los que devuelven un valor boolean, que se almacena en la matriz $M$ incialmente llena de indefinidos.\n",
        "\n",
        "Se va a tener que, por profundidad, llegar hasta los casos base con las primeras llamadas recursivas, pero a medida que éstas se vayan llenando, las demás verán que los valores que les corresponden en $M[i][j]$ no están indefinidos y podrán retornarlos de una."
      ]
    },
    {
      "cell_type": "markdown",
      "metadata": {
        "id": "rp55wwG3LjHy"
      },
      "source": [
        "d) Concluir que $subset_sum(C, n, k)$ resuelve el problema. Calcular la complejidad y compararla con el algoritmo subset_sum del inciso f ) del Ejercicio 1. ¿Cuál algoritmo es mejor cuando k ≪ 2^n? ¿Y cuándo k ≫ 2^n?\n",
        "\n",
        "La complejidad temporal ya vimos que será $O(nk)$ para $ k ≪ 2^n$, pero tenemos un mayor costo espacial, debido a la matriz (antes era meramente $O(1)$). La misma tendrá dimensiones $n+1 \\times k+1$, o con la notación de $O$ llegamos a $O(nk)$.\n",
        "\n",
        "Si $k ≫ 2^n$, conviene el otro algoritmo, pues eso implica que la complejidad temporal se va a $O(2^n)$, pero sin la carga espacial de éste."
      ]
    },
    {
      "cell_type": "markdown",
      "metadata": {
        "id": "vndDeCStMXTA"
      },
      "source": [
        "e) Supongamos que queremos computar todos los valores de M . Una vez computados, por\n",
        "definición, obtenemos que\n",
        "\n",
        "$M [i, j]\n",
        "= ss’C (i, j)\n",
        "= ss’C (i − 1, j) ∨ ss’C (i − 1, j − C[i])\n",
        "= M [i − 1, j] ∨ M [i − 1, j − C[i]]$\n",
        "\n",
        "cuando $i > 0$, asumiendo que $M [i − 1, j − C[i]]$ es falso cuando $j − C[i] < 0$. Por otra parte,\n",
        "$M [0, 0]$ es verdadero, mientras que $M [0, j]$ es falso para $j > 0$. A partir de esta observación,\n",
        "concluir que el siguiente algoritmo bottom-up computa $M$ correctamente y, por lo tanto,\n",
        "$M [i, j]$ contiene la respuesta al problema de la suma para todo $\\{c_1, . . . , c_i\\}$ y $j$.\n",
        "\n",
        "```\n",
        "1) subset_sum(C, k): // computa M [i, j] para todo 0 ≤ i ≤ n y 0 ≤ j ≤ k.\n",
        "2)    Inicializar M [0, j] := (j = 0) para todo 0 ≤ j ≤ k.\n",
        "3)    Para i = 1, . . . , n y para j = 0, . . . , k:\n",
        "4)        Poner M [i, j] := M [i − 1, j] ∨ (j − C[i] ≥ 0 ∧ M [i − 1, j − C[i]])\n",
        "```"
      ]
    },
    {
      "cell_type": "markdown",
      "metadata": {
        "id": "0QpfY4NnNMFq"
      },
      "source": [
        "Básicamente se están llenando todas las columnas de la primer fila de la matriz con todos los valores que puede tomar $k$ de una vez, pues se supondría que en ese caso ya no hay nada más que agregar, se habría terminado el algoritmo y se trata meramente de evaluar el valor de verdad de $j = 0$.\n",
        "\n",
        "El `for` simplemente, para cada posición de la matriz fuera de la primer fila, rellena todo lo que hace falta, cosa que va a poder hacer pues siempre se va a estar remitiendo a una fila o columna anterior."
      ]
    },
    {
      "cell_type": "markdown",
      "metadata": {
        "id": "dpNH4X_ZN-2W"
      },
      "source": [
        "f ) (Opcional) Modificar el algoritmo bottom-up anterior para mejorar su complejidad espacial\n",
        "a $O(k)$."
      ]
    },
    {
      "cell_type": "markdown",
      "metadata": {
        "id": "taBu7WitOAlN"
      },
      "source": [
        "g) (Opcional) Demostrar que la función recursiva del inciso a) es correcta. Ayuda: demostrar\n",
        "por inducción en $i$ que existe algún subconjunto de $\\{c_1, . . . , c_i\\}$ que suma $j$ si y solo si\n",
        "$ss’C (i, j) = V$ ."
      ]
    },
    {
      "cell_type": "markdown",
      "metadata": {
        "id": "LSQ3RhNfOMTV"
      },
      "source": [
        "# Ejercicio 6 - OptiPago"
      ]
    },
    {
      "cell_type": "markdown",
      "metadata": {
        "id": "8cNwCXJNOOse"
      },
      "source": [
        "Tenemos un multiconjunto $B$ de valores de billetes y queremos comprar un producto de costo\n",
        "$c$ de una máquina que no da vuelto. Para poder adquirir el producto debemos cubrir su costo\n",
        "usando un subconjunto de nuestros billetes. El objetivo es pagar con el mínimo exceso posible a\n",
        "fin de minimizar nuestra pérdida. Más aún, queremos gastar el menor tiempo posible poniendo\n",
        "billetes en la máquina. Por lo tanto, entre las opciones de mínimo exceso posible, queremos una\n",
        "con la menor cantidad de billetes. Por ejemplo, si $c = 14$ y $B = \\{2, 3, 5, 10, 20, 20\\}$, la solución es\n",
        "pagar $15$, con exceso $1$, insertando sólo dos billetes: uno de $10$ y otro de $5$."
      ]
    },
    {
      "cell_type": "markdown",
      "metadata": {
        "id": "_WalA6vKOegY"
      },
      "source": [
        "a) Considerar la siguiente estrategia por *backtracking* para el problema, donde $B = \\{b_1, . . . , b_n\\}$.\n",
        "\n",
        "Tenemos dos posibilidades: o agregamos el billete $b_n$, gastando un billete y quedando por\n",
        "pagar $c − b_n$, o no agregamos el billete $b_n$, gastando $0$ billetes y quedando por pagar $c$.\n",
        "Escribir una función recursiva $cc(B, c)$ para resolver el problema, donde $cc(B, c) = (c′, q)$\n",
        "cuando el mínimo costo mayor o igual a $c$ que es posible pagar con los billetes de $B$ es $c′$ y\n",
        "la cantidad de billetes mínima es $q$."
      ]
    },
    {
      "cell_type": "markdown",
      "metadata": {
        "id": "2e-WdESIPFUb"
      },
      "source": [
        "*Funcion por backtracking*\n",
        "\n",
        "$   \n",
        "cc (c, q) =\n",
        "     \\begin{cases}\n",
        "       \\text{if $c > 0$ then ($\\infty$, 1) else $(c, 1)$} &\\quad\\text{si $i = 0$}\\\\\n",
        "       \\text{CostoFinititoYQMenor($\\{cc (c - C[q], q+1), cc(c, q)$}\\}) &\\quad\\text{si no}\\\\\n",
        "     \\end{cases}\n",
        "$"
      ]
    },
    {
      "cell_type": "markdown",
      "metadata": {
        "id": "phMsOW-DR6B7"
      },
      "source": [
        "b) Implementar la función de a) en un lenguaje de programación imperativo utilizando una\n",
        "función recursiva con parámetros $B$, $i$, $j$ que compute $cc(\\{b_1, . . . , b_i\\}, j)$. ¿Cuál es la complejidad del algoritmo?"
      ]
    },
    {
      "cell_type": "code",
      "execution_count": null,
      "metadata": {
        "id": "rBBnYKipNCVZ"
      },
      "outputs": [],
      "source": [
        "#B = el conjunto de billetes\n",
        "#i = el iésimo billete\n",
        "#j = el costo a pagar\n",
        "\n",
        "def opti_pago_bt(B, i, j):\n",
        "  n = len(B)\n",
        "  if i < 0:\n",
        "    return (j, 0)\n",
        "  else:\n",
        "    agregar_i_costo, agregar_i_q = opti_pago_bt(B, i-1, j-B[i])\n",
        "    agregar_i_q += 1 #pues decidimos usar un billete\n",
        "    agregar_i = (agregar_i_costo, agregar_i_q)\n",
        "    no_agregar_i = opti_pago_bt(B, i-1, j) #acá decidimos no usarlo\n",
        "    return minimo_valido(agregar_i, no_agregar_i)\n",
        "\n",
        "#voy a asumir que en todo momento tenemos algún res válido, o sea que podremos pagar\n",
        "def minimo_valido(res_1, res_2):\n",
        "\n",
        "  if res_1[0] > 0 and res_2[0] <= 0:\n",
        "    return res_2 #este pudo pagar, el otro no\n",
        "\n",
        "  if res_1[0] <= 0 and res_2[0] > 0:\n",
        "    return res_1 #el 1 pudo pagar, el 2 no\n",
        "\n",
        "  #si no se entró en ninguno guarda, es que ninguno pudo pagar o los dos lo lograron\n",
        "\n",
        "  if res_1[0] <= 0 and res_2[0] <= 0: #si ambos pudieron pagar, quiero el de menor exceso\n",
        "\n",
        "     if res_1[0] > res_2[0]:\n",
        "      return res_1\n",
        "     if res_1[0] < res_2[0]:\n",
        "      return res_2\n",
        "\n",
        "     #si son iguales, me quedo con el que usó menos billetes\n",
        "\n",
        "     if res_1[1] < res_2[1]:\n",
        "      return res_1\n",
        "     else:\n",
        "      return res_2\n",
        "\n",
        "  #si llego hasta acá, es que ninguno pudo pagar, me quedo con cualquiera\n",
        "  return res_1"
      ]
    },
    {
      "cell_type": "code",
      "execution_count": null,
      "metadata": {
        "colab": {
          "background_save": true,
          "base_uri": "https://localhost:8080/"
        },
        "id": "0-dqfzaFVCQh",
        "outputId": "9a197e62-1815-4692-d5eb-56c5b87389be"
      },
      "outputs": [
        {
          "name": "stdout",
          "output_type": "stream",
          "text": [
            "El mejor par exceso - cantidad de billetes hallado es: (-1, 2)\n"
          ]
        }
      ],
      "source": [
        "B = [2, 3, 5, 10, 20, 20]\n",
        "c = 14\n",
        "\n",
        "sol = opti_pago_bt(B, len(B)-1, c)\n",
        "print(f\"El mejor par exceso - cantidad de billetes hallado es: {sol}\")"
      ]
    },
    {
      "cell_type": "markdown",
      "metadata": {
        "id": "mFTjMOoPWQqv"
      },
      "source": [
        "Concuerda con la solución: me paso 1, pago con un billete de 10 y otro de 5.\n",
        "\n",
        "La complejidad temporal será del orden de $O(2^n)$, $n$ la cantidad de billetes que tenemos, pues se generan todas las posibles combinaciones."
      ]
    },
    {
      "cell_type": "markdown",
      "metadata": {
        "id": "6e02zOaxWVsV"
      },
      "source": [
        "c) Reescribir cc como una función recursiva $cc’B (i, j) = cc(\\{b1, . . . , bi\\}, j)$ que implemente la\n",
        "idea anterior dejando fijo el parámetro $B$. A partir de esta función, determinar cuándo\n",
        "$cc’_B$ tiene la propiedad de *superposición de subproblemas.*\n",
        "\n",
        "Más o menos como yo lo hice $B$ está fijo. La superposición de problemas se va a dar porque hay llamadas recursivas que se van a repetir, basta ver el árbol de backtracking correspondiente al item anterior."
      ]
    },
    {
      "cell_type": "markdown",
      "metadata": {
        "id": "uXcqLraKXRec"
      },
      "source": [
        "d) Definir una estructura de memoización para $cc’_B$ que permita acceder a $cc’_B (i, j)$ en $O(1)$\n",
        "tiempo para todo $0 ≤ i ≤ n$ y $0 ≤ j ≤ k$\n",
        "\n",
        "¿De qué pares $(i,j)$ sabemos apriorísticamente el resultado? Nuestro backtracking tiene caso base para toda la fila de $i < 0$, o sea que ya usamos todos los elementos. En ese caso devolvemos $(costo, 0)$.\n",
        "\n",
        "Pero además, podemos definir, como en la implementación de arriba:\n",
        "\n",
        "$M[i][j] = minimoValido(M[i-1][j], M[i-1][j-1])$\n",
        "\n",
        "Donde $i$ es la cantidad de billetes utilizados y $j$ un índice asociado a un costo acumulado."
      ]
    },
    {
      "cell_type": "code",
      "execution_count": null,
      "metadata": {
        "id": "6gPh5wQEkAkr"
      },
      "outputs": [],
      "source": [
        "import numpy as np\n",
        "import math"
      ]
    },
    {
      "cell_type": "code",
      "execution_count": null,
      "metadata": {
        "id": "JsiLEze1ao9u"
      },
      "outputs": [],
      "source": [
        "def matriz_opti_pago(B, k):\n",
        "\n",
        "  n = len(B)\n",
        "\n",
        "  M = np.full((n + 1, k + 1), (math.inf, math.inf), dtype=np.dtype('float,float'))\n",
        "\n",
        "  # Establecer el valor del elemento en la fila 0 y columna 0 como (0, 0)\n",
        "  M[0, 0] = (0, 0)\n",
        "\n",
        "  for i in range(1, n+1):\n",
        "\n",
        "    j = k\n",
        "\n",
        "    while j >= 0:\n",
        "      r = M[i-1][max(0, j-B[i])]\n",
        "      M[i][j] = (min(B[i] + r[0], 1 + r[1]), M[i-1][j])\n",
        "      j -= 1\n",
        "\n",
        "  return M\n"
      ]
    },
    {
      "cell_type": "markdown",
      "metadata": {
        "id": "6tOOSbgIlXa-"
      },
      "source": [
        "e) Adaptar el algoritmo de b) para incluir la estructura de memoización."
      ]
    },
    {
      "cell_type": "code",
      "execution_count": null,
      "metadata": {
        "id": "g4HKEh6RlYHS"
      },
      "outputs": [],
      "source": [
        "def cc_adaptado_pd()"
      ]
    },
    {
      "cell_type": "markdown",
      "source": [
        "#Ejercicio 7 - AstroTrade"
      ],
      "metadata": {
        "id": "-lyqXgsKjDYf"
      }
    },
    {
      "cell_type": "markdown",
      "source": [
        "Astro Void se dedica a la compra de asteroides. Sea $p ∈ N_n$ tal que $p_i$ es el precio de un asteroide\n",
        "el i-ésimo día en una secuencia de $n$ días. Astro Void quiere comprar y vender asteroides durante\n",
        "esos $n$ días de manera tal de obtener la mayor ganancia neta posible. Debido a las dificultades\n",
        "que existen en el transporte y almacenamiento de asteroides, Astro Void puede comprar a lo\n",
        "sumo un asteroide cada día, puede vender a lo sumo un asteroide cada día y comienza sin\n",
        "asteroides. Además, el Ente Regulador Asteroidal impide que Astro Void venda un asteroide\n",
        "que no haya comprado. Queremos encontrar la máxima ganancia neta que puede obtener Astro\n",
        "Void respetando las restricciones indicadas. Por ejemplo, si $p = (3, 2, 5, 6)$ el resultado es 6 y si\n",
        "$p = (3, 6, 10)$ el resultado es 7. Notar que en una solución óptima, Astro Void debe terminar sin\n",
        "asteroides."
      ],
      "metadata": {
        "id": "-PKyVxZWjPun"
      }
    },
    {
      "cell_type": "markdown",
      "source": [
        "a) Convencerse de que la máxima ganancia neta (m.g.n.), si Astro Void tiene $c$ asteroides al\n",
        "fin del día $j$, es:\n",
        "indefinido (i.e., $−\\infty$) si $c < 0$ o $c > j$, o\n",
        "el máximo entre:\n",
        "- la m.g.n. de finalizar el día $j − 1$ con $c − 1$ asteroides y comprar uno en el día $j$,\n",
        "- la m.g.n. de finalizar el día $j − 1$ con $c + 1$ asteroides y vender uno en el día $j$,\n",
        "- la m.g.n. de finalizar el día $j − 1$ con $c$ asteroides y no operar el día $j$."
      ],
      "metadata": {
        "id": "a4dPglVNjcsU"
      }
    },
    {
      "cell_type": "markdown",
      "source": [
        "Está claro que si $c<0$ tenemos una cantidad inválida de asteroides, y si $c>j$ compramos más de los permitidos. Ambos casos no están permitidos, por lo que les asociamos una ganancia que sea lo peor posible para poder trabajar.\n",
        "\n",
        "Respecto de las otras opciones, si al final del día $j$ tenemos $c$ asteorides, tenemos 3 posibilidades al respecto de lo que hubieramos hecho:\n",
        "\n",
        "- Compramos ese día: entonces ayer, al finalizar $j-1$ teníamos $c-1$ asteroides.\n",
        "- Vendimos ese día: entonces ayer, al finalizar $j-1$ teníamos $c+1$ asteroides.\n",
        "- No hicimos nada: entonces ayer, al finalizar $j-1$ ya teníamos los $c$ asteroides."
      ],
      "metadata": {
        "id": "SNYKDzdtjnVg"
      }
    },
    {
      "cell_type": "markdown",
      "source": [
        "b) Escribir matemáticamente la formulación recursiva enunciada en a). Dar los valores de los\n",
        "casos base en función de la restricción de que comienza sin asteroides."
      ],
      "metadata": {
        "id": "cOLvctuqkriK"
      }
    },
    {
      "cell_type": "markdown",
      "source": [
        "$   \n",
        "ast (P, j, c) =\n",
        "     \\begin{cases}\n",
        "       \\text{$-\\infty$} &\\quad\\text{si $c < 0 \\lor c > j$}\\\\\n",
        "       \\text{$0$} &\\quad\\text{si $j=0$}\\\\\n",
        "       \\text{$max\\{ast(j-1, c-1) - P[j-1], ast(j-1, c+1) + P[j-1], ast(j-1, c)\\}$} &\\quad\\text{en otro caso}\\\\\n",
        "     \\end{cases}\n",
        "$"
      ],
      "metadata": {
        "id": "w3ZT5JOukw6y"
      }
    },
    {
      "cell_type": "markdown",
      "source": [
        "c) Indicar qué dato es la respuesta al problema con esa formulación recursiva."
      ],
      "metadata": {
        "id": "nffW4rVDmBtP"
      }
    },
    {
      "cell_type": "markdown",
      "source": [
        "La ganancia máxima."
      ],
      "metadata": {
        "id": "r5n6zJGomDXq"
      }
    },
    {
      "cell_type": "markdown",
      "source": [
        "d) Diseñar un algoritmo de PD top-down que resuelva el problema y explicar su complejidad\n",
        "temporal y espacial auxiliar."
      ],
      "metadata": {
        "id": "T03ua9lEmGF3"
      }
    },
    {
      "cell_type": "code",
      "source": [
        "#suponemos que los días comienzan desde cero\n",
        "def ast_top_down(P, j, c, memo):\n",
        "\n",
        "  if c > j+1 or c < 0: #el +1 es porque j debería ser 1, 2, 3... pero comienza en cero, por lo que el\n",
        "  #fin del día 1 es igual al fin del índice 0. SI no pusieramos esto, no sería posible tener al día\n",
        "  #1 un asteroide o al 2 tener dos...\n",
        "    return -math.inf\n",
        "  elif j == -1:\n",
        "    return 0\n",
        "  else:\n",
        "\n",
        "    if memo[j][c] == -1:\n",
        "      #lo maximo entre haber comprado o vendido hoy vs\n",
        "      res = max(ast_top_down(P, j-1, c-1, memo) - P[j], ast_top_down(P, j-1, c+1, memo) + P[j])\n",
        "      #lo maximo entre eso y no haber hecho nada\n",
        "      res = max(res, ast_top_down(P, j-1, c, memo))\n",
        "\n",
        "      memo[j][c] = res\n",
        "\n",
        "  return memo[j][c]"
      ],
      "metadata": {
        "id": "NWOZIQ09mIdz"
      },
      "execution_count": null,
      "outputs": []
    },
    {
      "cell_type": "code",
      "source": [
        "def ast_top_down_2(P, j, c, memo):\n",
        "\n",
        "  if c > j or c < 0:\n",
        "    return -math.inf\n",
        "  elif j == 0:\n",
        "    return 0\n",
        "  else:\n",
        "\n",
        "    if memo[j-1][c] == -1:\n",
        "      res = ast_top_down_2(P, j-1, c, memo)# no hacer nada\n",
        "      res = max(res, ast_top_down_2(P, j-1, c-1, memo) - P[j-1]) #no hacer nada o comprar\n",
        "      #lo maximo entre eso y no haber hecho nada\n",
        "      res = max(res, ast_top_down_2(P, j-1, c+1, memo) + P[j-1]) #lo de antes o vender\n",
        "\n",
        "      memo[j-1][c] = res\n",
        "\n",
        "  return memo[j-1][c]"
      ],
      "metadata": {
        "id": "8e13L93mqgCM"
      },
      "execution_count": null,
      "outputs": []
    },
    {
      "cell_type": "code",
      "source": [
        "def sol_7_top_down(P):\n",
        "  n = len(P)\n",
        "  memo = [[-1] * (n-1) for _ in range(n)]\n",
        "  res = ast_top_down(P, n-1, 0, memo)\n",
        "  print(memo)\n",
        "  return res"
      ],
      "metadata": {
        "id": "fmPkWYdRnbT_"
      },
      "execution_count": null,
      "outputs": []
    },
    {
      "cell_type": "code",
      "source": [
        "p_1 = [3, 2, 5, 6]\n",
        "res_ast_1 = sol_7_top_down(p_1)\n",
        "print(f\"La máxima ganancia posible fue de {res_ast_1}\")"
      ],
      "metadata": {
        "colab": {
          "base_uri": "https://localhost:8080/"
        },
        "id": "A-Hg1rEKnZim",
        "outputId": "1ccf7a79-e2eb-4c90-c42a-9cb39dee08a3"
      },
      "execution_count": null,
      "outputs": [
        {
          "output_type": "stream",
          "name": "stdout",
          "text": [
            "[[0, -3, -1], [0, -2, -5], [3, 0, -1], [6, -1, -1]]\n",
            "La máxima ganancia posible fue de 6\n"
          ]
        }
      ]
    },
    {
      "cell_type": "code",
      "source": [
        "p_2 = [3, 6, 10]\n",
        "res_ast_2 = sol_7_top_down(p_2)\n",
        "print(f\"La máxima ganancia posible fue de {res_ast_2}\")"
      ],
      "metadata": {
        "colab": {
          "base_uri": "https://localhost:8080/"
        },
        "id": "bj1rfOA7oVOu",
        "outputId": "e6c01075-5324-4e6d-c71e-268c19e52cfd"
      },
      "execution_count": null,
      "outputs": [
        {
          "output_type": "stream",
          "name": "stdout",
          "text": [
            "[[0, -3], [3, -3], [7, -1]]\n",
            "La máxima ganancia posible fue de 7\n"
          ]
        }
      ]
    },
    {
      "cell_type": "markdown",
      "source": [
        "¿Espacial? $O(n^2)$ para $n$ la cantidad de elementos de $p$, o días. Pues haremos un memo de dimensiones $c \\times n$, y $c$ es a lo sumo $n$.\n",
        "\n",
        "¿Temporal? Será también parecido a $O(n^2)$, puesto que si bien las primeras llamadas necesitan bajar mucho con llamados recursivos, las siguientes ya pueden acceder a memo."
      ],
      "metadata": {
        "id": "nLpM5oEQwp_2"
      }
    },
    {
      "cell_type": "markdown",
      "source": [
        "# Ejercicio 8 - CortesEconómicos"
      ],
      "metadata": {
        "id": "gqRuKHxStStE"
      }
    },
    {
      "cell_type": "markdown",
      "source": [
        "Debemos cortar una vara de madera en varios lugares predeterminados. Sabemos que el costo de\n",
        "realizar un corte en una madera de longitud $ℓ$ es $ℓ$ (y luego de realizar ese corte quedarán 2 varas\n",
        "de longitudes que sumarán $ℓ$). Por ejemplo, si tenemos una vara de longitud 10 metros que debe\n",
        "ser cortada a los 2, 4 y 7 metros desde un extremo, entonces los cortes se pueden realizar, entre\n",
        "otras maneras, de las siguientes formas:\n",
        "\n",
        "- Primero cortar en la posición 2, después en la 4 y después en la 7. Esta resulta en un costo\n",
        "de 10 + 8 + 6 = 24 porque el primer corte se hizo en una vara de longitud 10 metros, el\n",
        "segundo en una de 8 metros y el último en una de 6 metros.\n",
        "\n",
        "- Cortar primero donde dice 4, después donde dice 2, y finalmente donde dice 7, con un costo\n",
        "de 10 + 4 + 6 = 20, que es menor.\n",
        "\n",
        "Queremos encontrar el mínimo costo posible de cortar una vara de longitud $ℓ$."
      ],
      "metadata": {
        "id": "5YpjZGDBtWYt"
      }
    },
    {
      "cell_type": "markdown",
      "source": [
        "a) Convencerse de que el mínimo costo de cortar una vara que abarca desde $i$ hasta $j$ con el\n",
        "conjunto $C$ de lugares de corte es $j − i$ mas el mínimo, para todo lugar de corte $c$ entre $i$ y\n",
        "$j$, de la suma entre el mínimo costo desde $i$ hasta $c$ y el mínimo costo desde $c$ hasta $j$."
      ],
      "metadata": {
        "id": "Cxsyk9j4xVj1"
      }
    },
    {
      "cell_type": "markdown",
      "source": [
        "Claro, acá tenemos que incialmente $l = j-i$, es un costo que de a fuerzas tendré que sumar, más el mínimo costo que generen las dos subdivisiones que van desde $i$ a $c$ y de $c$ a $j$ para $c$ el lugar de corte con el costo más pequeño."
      ],
      "metadata": {
        "id": "W4Zmc6yHxezf"
      }
    },
    {
      "cell_type": "markdown",
      "source": [
        "b) Escribir matemáticamente una formulación recursiva basada en a). Explicar su semántica e\n",
        "indicar cuáles serían los parámetros para resolver el problema."
      ],
      "metadata": {
        "id": "cUSI8YjFx0L9"
      }
    },
    {
      "cell_type": "markdown",
      "source": [
        "$   \n",
        "cee (C, i, j) =\n",
        "     \\begin{cases}\n",
        "       \\text{$0$} &\\quad\\text{si $C = ∅$}\\\\\n",
        "       \\text{$C[j] - C[i] + min\\{cee(C - \\{c\\}, i, c), cee(C - \\{c\\}, c, j)\\} \\ c \\in C, i < c < j$} &\\quad\\text{en otro caso}\\\\\n",
        "     \\end{cases}\n",
        "$"
      ],
      "metadata": {
        "id": "qD1F2xXPx1Ak"
      }
    },
    {
      "cell_type": "markdown",
      "source": [
        "c) Diseñar un algoritmo de PD y dar su complejidad temporal y espacial auxiliar. Comparar\n",
        "cómo resultaría un enfoque top-down con uno bottom-up."
      ],
      "metadata": {
        "id": "ro1lvYtHyw1a"
      }
    },
    {
      "cell_type": "code",
      "source": [
        "#pos_cortes = cantidad de posibles_cortes\n",
        "def cee_top_down(C, i, j, memo):\n",
        "\n",
        "  if i +1 == j:\n",
        "    return 0\n",
        "  else:\n",
        "    if memo[i][j] == -1:\n",
        "      min_costo = C[len(C)-1] #por default lo más grande posible\n",
        "      for k in range(i+1, j):\n",
        "        este_costo = cee_top_down(C, i, k, memo) + cee_top_down(C, k , j, memo)\n",
        "        if este_costo < min_costo:\n",
        "          min_costo = este_costo\n",
        "\n",
        "      min_costo = C[j] - C[i] + min_costo\n",
        "      memo[i][j] = min_costo\n",
        "\n",
        "  return memo[i][j]"
      ],
      "metadata": {
        "id": "bBcRYK-Jywhi"
      },
      "execution_count": null,
      "outputs": []
    },
    {
      "cell_type": "code",
      "source": [
        "def solution_8_top_down(l, C):\n",
        "  n = len(C)\n",
        "  memo = [[-1] * n for _ in range(n)]\n",
        "  res = l + cee_top_down(C, 0, n-1, memo)\n",
        "  return res"
      ],
      "metadata": {
        "id": "4zEhFiFSzwWi"
      },
      "execution_count": null,
      "outputs": []
    },
    {
      "cell_type": "code",
      "source": [
        "C_1 = [2, 4, 7]\n",
        "l_1 = 10\n",
        "res_cee_1 = solution_8_top_down(l_1, C_1)\n",
        "print(f\"El mínimo costo posible fue de {res_cee_1}\")"
      ],
      "metadata": {
        "colab": {
          "base_uri": "https://localhost:8080/"
        },
        "id": "TsNQUQS60Nkp",
        "outputId": "4633bc12-4524-464a-af6a-84e20077ee56"
      },
      "execution_count": null,
      "outputs": [
        {
          "output_type": "stream",
          "name": "stdout",
          "text": [
            "El mínimo costo posible fue de 15\n"
          ]
        }
      ]
    },
    {
      "cell_type": "markdown",
      "source": [
        "#Ejercicio 9 - Travesía Vital"
      ],
      "metadata": {
        "id": "SxpFjqrA00I4"
      }
    },
    {
      "cell_type": "markdown",
      "source": [
        "Hay un terreno, que podemos pensarlo como una grilla de $m$ filas y $n$ columnas, con trampas\n",
        "y pociones. Queremos llegar de la esquina superior izquierda hasta la inferior derecha, y desde\n",
        "cada casilla sólo podemos movernos a la casilla de la derecha o a la de abajo. Cada casilla $i,j$\n",
        "tiene un número entero $A_{i,j}$ que nos modificará el nivel de vida sumándonos el número $A_{i,j}$ (si\n",
        "es negativo, nos va a restar $|A_{i,j} |$ de vida). Queremos saber el mínimo nivel de vida con el que\n",
        "debemos comenzar tal que haya un camino posible de modo que en todo momento nuestro nivel\n",
        "de vida sea al menos 1. Por ejemplo, si tenemos la grilla.\n",
        "\n",
        "$\n",
        "A =\n",
        "\\begin{bmatrix}\n",
        "−2& −3& 3\\\\\n",
        "−5& −10& 1\\\\\n",
        "10& 30& −5\\\\\n",
        "\\end{bmatrix}\n",
        "$\n",
        "\n",
        "el mínimo nivel de vida con el que podemos comenzar es 7 porque podemos realizar el camino\n",
        "que va todo a la derecha y todo abajo."
      ],
      "metadata": {
        "id": "3LDHWxDM02UN"
      }
    },
    {
      "cell_type": "markdown",
      "source": [
        "a) Pensar la idea de un algoritmo de backtracking (no hace falta escribirlo)."
      ],
      "metadata": {
        "id": "p5SYII531Lf5"
      }
    },
    {
      "cell_type": "markdown",
      "source": [
        "Tendríamos que partir desde la última casilla, la de abajo a la izquierda y ver cuánta es la mínima vida posible para llegar ahí, e ir siempre por los dos (o un) caminos de vuelta disponibles, arriba o a la izquierda. Nos iríamos siempre viendo cuánto de mínimo de vida nos pide el camino en vuelta más barato hasta, podando a aquellos que automáticamente nos pidan más y actualizándolo a medida que vamos atrás."
      ],
      "metadata": {
        "id": "4ZXphCXJ1NsI"
      }
    },
    {
      "cell_type": "markdown",
      "source": [
        "b) Convencerse de que, excepto que estemos en los límites del terreno, la mínima vida necesaria\n",
        "al llegar a la posición $i, j$ es el resultado de restar al mínimo entre la mínima vida necesaria\n",
        "en $i + 1, j$ y aquella en $i, j + 1$, el valor $A_{i,j}$ , salvo que eso fuera menor o igual que 0, en\n",
        "cuyo caso sería 1."
      ],
      "metadata": {
        "id": "X20aNqjD1oJQ"
      }
    },
    {
      "cell_type": "markdown",
      "source": [
        "Si estamos en $i,j$ y nos podemos mover a derecha $i, j+1$ o abajo $i+1,j$ y ya conocemos cuánta es la vida mínima necesaria para llegar a aquellas dos casillas y ganar (es decir, si caigo ahí con la vida exigida, ya sé que es posible llegar al final sólo con eso), está claro que me quiero quedar con la que exija menos, la mínima. Llamemos a ese valor mínimo $v$.\n",
        "\n",
        "Ahora bien, yo estoy parado en $A_{i,j}$ que me pudo haber sumado o restado vida, y yo sé que la mínima vida necesaria con la que llegar a la siguiente de a fuerzas es un número positivo (si no, estaría muerto).\n",
        "\n",
        "- Si $A_{i,j} < 0$ entonces me quita vida, la resta $v$ - $A_{i,j}$ va a terminar dándome un número positivo, porque $v$ lo es. Ahora bien, si no quiero morir en $A_{i,j}$ debería haber llegado ahí con $|A_{i,j}|$ de vida *más algo* (pues si llego exacto con eso, me quedo en 0 y la palmo). ¿Cuánto ha de ser ese algo? Lo mínimo posible para poder llegar a la siguiente casilla, ¿Cuánto me exije la siguiente? $v$. Entonces, necesito $v + |A_{i,j}| = v - A_{i, j}$.\n",
        "\n",
        "- Si $A_{i,j} \\geq 0$ entonces me suma vida o no me hace nada. Luego, la resta $v - A_{i,j}$ puede ser cero, positiva o negativa. Si fuera cero, es porque $A_{i,j}$ me está dando justo la vida necesaria para llegar a la siguiente celda. Ahora bien, ¿Cuánto es lo mínimo de vida con lo que puedo caer en una celda positiva? Es 1. Si la resta es negativa, significa que $A_{i,j}$ me dio mucha más vida de la mínima necesaria para llegar a la siguiente celda. Pero yo quiero llegar con lo justo. Entonces, me basta llegar a ${i,j}$ con 1 de vida. Ahora bien, si la suma es positiva, es que $A_{i,j}$ no me está dando toda la vida necesaria para llegar a $v$, me falta un poco, ya debería traerlo de antemano, ¿Cuánto es ese poco?, la diferencia $v - A_{i, j}$."
      ],
      "metadata": {
        "id": "HEAr67tl1uZ7"
      }
    },
    {
      "cell_type": "markdown",
      "source": [
        "c) Escribir una formulación recursiva basada en b). Explicar su semántica e indicar cuáles\n",
        "serían los parámetros para resolver el problema."
      ],
      "metadata": {
        "id": "uRny93vT4PDV"
      }
    },
    {
      "cell_type": "markdown",
      "source": [
        "Sean $m$ = cantidad de filas, $n$ = cantidad de columnas\n",
        "\n",
        "$   \n",
        "mvn (A, i, j) =\n",
        "     \\begin{cases}\n",
        "       \\text{if $A[i][j] \\geq 0$ then $1$ else $-A[i][j] + 1$} &\\quad\\text{si $i = m \\land j = n$}\\\\\n",
        "       \\text{if $mvn(A, i, j+1) - A[i][j] > 0$ then eso else $1$} &\\quad\\text{si $i = m \\land j < n$}\\\\\n",
        "       \\text{if $mvn(A, i+1, j) - A[i][j] > 0$ then eso else $1$} &\\quad\\text{si $i < m \\land j = n$}\\\\\n",
        "       \\text{if $min\\{mvn(A, i+1, j), mvn(A, i, j+1)\\} - A[i][j] > 0$ then eso else $1$} &\\quad\\text{en otro caso}\\\\\n",
        "     \\end{cases}\n",
        "$"
      ],
      "metadata": {
        "id": "I3VUphSF4Phk"
      }
    },
    {
      "cell_type": "markdown",
      "source": [
        "La última guarda es la que nos dieron, la segunda y tercera son los casos cuando estamos abajo de todo en el lateral (en esos casos, sólo hay un lugar hacia el que moverse).\n",
        "\n",
        "El caso base es el punto de llegada, el final, abajo a la derecha del todos. Si es positivo o 0, nos basta llegar con 1 de vida. Si no, necesitamos lo que nos quita $|A_{m,n}|$ más 1 para no quedar con 0."
      ],
      "metadata": {
        "id": "o2TBKtMM6xhk"
      }
    },
    {
      "cell_type": "markdown",
      "source": [
        "d) Diseñar un algoritmo de PD y dar su complejidad temporal y espacial auxiliar. Comparar\n",
        "cómo resultaría un enfoque top-down con uno bottom-up"
      ],
      "metadata": {
        "id": "X_uvecx_7N6J"
      }
    },
    {
      "cell_type": "code",
      "source": [
        "def mvn_top_down(A, i, j, memo):\n",
        "\n",
        "  m = len(A)\n",
        "  n = len(A[0])\n",
        "\n",
        "  if i == m-1 and j == n-1:\n",
        "\n",
        "    if A[i][j] >= 0:\n",
        "      return 1\n",
        "    else:\n",
        "      return 1 - A[i][j]\n",
        "  else:\n",
        "\n",
        "    if memo[i][j] == -1:\n",
        "\n",
        "      if i == m-1 and j < n-1: #todavía puedo ir a la derecha\n",
        "\n",
        "         diferencia = mvn_top_down(A, i, j+1, memo) - A[i][j]\n",
        "\n",
        "         if diferencia > 0:\n",
        "           memo[i][j] = diferencia\n",
        "         else:\n",
        "           memo[i][j] = 1\n",
        "\n",
        "      elif i < m-1 and j == n-1: #todaviaa puedo bajar\n",
        "\n",
        "         diferencia = mvn_top_down(A, i+1, j, memo) - A[i][j]\n",
        "\n",
        "         if diferencia > 0:\n",
        "           memo[i][j] = diferencia\n",
        "         else:\n",
        "           memo[i][j] = 1\n",
        "\n",
        "      else: #puedo ir tanto a la derecha como abajo\n",
        "\n",
        "         diferencia = min(mvn_top_down(A, i+1, j, memo), mvn_top_down(A, i, j+1, memo)) - A[i][j]\n",
        "\n",
        "         if diferencia > 0:\n",
        "           memo[i][j] = diferencia\n",
        "         else:\n",
        "           memo[i][j] = 1\n",
        "\n",
        "\n",
        "  return memo[i][j]"
      ],
      "metadata": {
        "id": "GbxQR4MW7Ob3"
      },
      "execution_count": null,
      "outputs": []
    },
    {
      "cell_type": "code",
      "source": [
        "def solution_9_top_down(A):\n",
        "  m = len(A)\n",
        "  n = len(A[0])\n",
        "  memo = [[-1]*n for _ in range(m)]\n",
        "  res = mvn_top_down(A, 0, 0, memo)\n",
        "  return res"
      ],
      "metadata": {
        "id": "GgOyrC-J9072"
      },
      "execution_count": null,
      "outputs": []
    },
    {
      "cell_type": "code",
      "source": [
        "A_1 = [[-2, -3, 3],\n",
        "       [-5, -10, 1],\n",
        "       [10, 30, -5]]\n",
        "res_mvn_1 = solution_9_top_down(A_1)\n",
        "print(f\"La mínima cantidad de vida inicial para llegar al final es {res_mvn_1}\")"
      ],
      "metadata": {
        "colab": {
          "base_uri": "https://localhost:8080/"
        },
        "id": "YIP_jpBC-OTE",
        "outputId": "f956e46a-db8c-4bfc-923d-c0df29e9ea03"
      },
      "execution_count": null,
      "outputs": [
        {
          "output_type": "stream",
          "name": "stdout",
          "text": [
            "La mínima cantidad de vida inicial para llegar al final es 7\n"
          ]
        }
      ]
    },
    {
      "cell_type": "markdown",
      "source": [
        "El memo nos cuesta $O(nm)$ espacialmente y el algoritmo temporalmente debe ser parecido a eso."
      ],
      "metadata": {
        "id": "YQ9z1J0E-l5o"
      }
    },
    {
      "cell_type": "markdown",
      "source": [
        "En un enfoque *bottom-up*, sabiendo de primera mano el valor de `memo[m-1][n-1]`, iríamos rellenando las casillas de los lados hasta llegar a `memo[0][0]`, que es el que deberíamos devolver al final de todo.\n",
        "\n",
        "Acá vamos calculando esos valores ni bien los necesitamos (en última instancia terminamos calculando todos de cualquier manera), pero ya que sabemos que los vamos a necesitar, y sabemos exactamente cómo se calculan, convendría el *bottom-up*."
      ],
      "metadata": {
        "id": "ycULhzN0-ryf"
      }
    },
    {
      "cell_type": "markdown",
      "source": [
        "e) Dar un algoritmo bottom-up cuya complejidad temporal sea $O(m · n)$ y la espacial auxiliar\n",
        "sea $O(min(m, n))$."
      ],
      "metadata": {
        "id": "pwOrgtUKAQby"
      }
    },
    {
      "cell_type": "markdown",
      "source": [
        "#Ejercicio 10 - PilaCauta"
      ],
      "metadata": {
        "id": "AoiW719jATh_"
      }
    },
    {
      "cell_type": "markdown",
      "source": [
        "Tenemos cajas numeradas de 1 a $N$ , todas de iguales dimensiones. Queremos encontrar la máxima\n",
        "cantidad de cajas que pueden apilarse en una única pila cumpliendo que:\n",
        "\n",
        "- sólo puede haber una caja apoyada directamente sobre otra;\n",
        "- las cajas de la pila deben estar ordenadas crecientemente por número, de abajo para arriba;\n",
        "- cada caja $i$ tiene un peso $w_i$ y un soporte $s_i$, y el peso total de las cajas que están arriba de\n",
        "otra no debe exceder el soporte de esa otra.\n",
        "\n",
        "Si tenemos los pesos $w = [19, 7, 5, 6, 1]$ y los soportes $s = [15, 13, 7, 8, 2]$ (la caja 1 tiene peso 19\n",
        "y soporte 15, la caja 2 tiene peso 7 y soporte 13, etc.), entonces la respuesta es 4. Por ejemplo,\n",
        "pueden apilarse de la forma 1-2-3-5 o 1-2-4-5 (donde la izquierda es más abajo), entre otras\n",
        "opciones"
      ],
      "metadata": {
        "id": "RLxY00P8BOgs"
      }
    },
    {
      "cell_type": "markdown",
      "source": [
        "a) Pensar la idea de un algoritmo de backtracking (no hace falta escribirlo)"
      ],
      "metadata": {
        "id": "XLgzw68ZBZEQ"
      }
    },
    {
      "cell_type": "markdown",
      "source": [
        "Si consideramos los índices I =  $\\{1, 2, ..., n-1, n \\}$ Deberíamos probar todos los subconjuntos de éste y validar, una vez tenemos un subconjunto de índices, que cada caja soporte el peso de las que están arriba suya."
      ],
      "metadata": {
        "id": "J0_3aSW-Ba3X"
      }
    },
    {
      "cell_type": "markdown",
      "source": [
        "b) Escribir una formulación recursiva que sea la base de un algoritmo de PD. Explicar su\n",
        "semántica e indicar cuáles serían los parámetros para resolver el problema."
      ],
      "metadata": {
        "id": "U_aukiwvCBCm"
      }
    },
    {
      "cell_type": "markdown",
      "source": [
        "\n",
        "$   \n",
        "pct (w, s, j, k) =\n",
        "     \\begin{cases}\n",
        "       \\text{0} &\\quad\\text{si $j=0$}\\\\\n",
        "       \\text{$pct(w, s, j-1, k)$} &\\quad\\text{si $s[j] < k$}\\\\\n",
        "       \\text{$max\\{pct(w, s, j-1, k+w[j])+1, pct(w, s, j-1, k)\\}$} &\\quad\\text{en otro caso}     \n",
        "     \\end{cases}\n",
        "$"
      ],
      "metadata": {
        "id": "mfA0oXpnCC_q"
      }
    },
    {
      "cell_type": "markdown",
      "source": [
        "Comenzando desde $pct(w, s, n, 0)$ para $n$ el máximo índice posible, lo que vamos haciendo es ir eligiendo desde la caja que va a ir arriba de todo hacia abajo. Para la jésimo caja, podemos decidir si ponerla o no. Si la ponemos, sumamos 1 y además tenemos que sumar su peso a los pesos totales $k+w[j]$. Esto permite, en cada caja, decidir si podemos ponerla  o no con la segunda guarda, que nos hace pasar a la siguiente si la jésima no puede soportar a las que tiene arriba. El caso base es 0, ya decidimos sobre todas las cajas."
      ],
      "metadata": {
        "id": "oXLdhxv3CqBa"
      }
    },
    {
      "cell_type": "markdown",
      "source": [
        "c) Diseñar un algoritmo de PD y dar su complejidad temporal y espacial auxiliar. Comparar\n",
        "cómo resultaría un enfoque top-down con uno bottom-up."
      ],
      "metadata": {
        "id": "1SLgroCGDJMV"
      }
    },
    {
      "cell_type": "code",
      "source": [
        "def pct_top_down(w, s, j, k, memo):\n",
        "\n",
        "  if j == -1:\n",
        "    return 0\n",
        "  elif s[j] < k:\n",
        "    return pct_top_down(w, s, j-1, k, memo)\n",
        "  else:\n",
        "    if memo[j][k] == -1:\n",
        "\n",
        "      max_cajas = max(pct_top_down(w, s, j-1, k+w[j], memo) + 1, pct_top_down(w, s, j-1, k, memo))\n",
        "      memo[j][k] = max_cajas\n",
        "\n",
        "  return memo[j][k]"
      ],
      "metadata": {
        "id": "CMtRI-5qDLX9"
      },
      "execution_count": null,
      "outputs": []
    },
    {
      "cell_type": "code",
      "source": [
        "def solution_10_top_down(w, s):\n",
        "  n = len(w)\n",
        "  k = sum(w)\n",
        "  memo = [[-1] * (k+1) for _ in range(n)]\n",
        "  res = pct_top_down(w, s, n-1, 0, memo)\n",
        "  return res"
      ],
      "metadata": {
        "id": "7hAKfBV1D4gf"
      },
      "execution_count": null,
      "outputs": []
    },
    {
      "cell_type": "code",
      "source": [
        "w_1 = [19, 7, 5, 6, 1]\n",
        "s_1 = [15, 13, 7, 8, 2]\n",
        "res_pct_1 = solution_10_top_down(w_1, s_1)\n",
        "print(f\"La cantidad máxima de cajas que se puede apilar es {res_pct_1}\")"
      ],
      "metadata": {
        "colab": {
          "base_uri": "https://localhost:8080/"
        },
        "id": "pV5zEr62ELji",
        "outputId": "57142696-dcdd-4ce8-efba-711f06585942"
      },
      "execution_count": null,
      "outputs": [
        {
          "output_type": "stream",
          "name": "stdout",
          "text": [
            "La cantidad máxima de cajas que se puede apilar es 4\n"
          ]
        }
      ]
    },
    {
      "cell_type": "markdown",
      "source": [
        "La complejidad espacial es la del memo, de $O(k*n)$ para $k$ la suma de todos los pesos y $n$ la cantidad de cajas.\n",
        "\n",
        "La temporal debería ser parecida."
      ],
      "metadata": {
        "id": "V9SBjopqElua"
      }
    },
    {
      "cell_type": "markdown",
      "source": [
        "Falta analizar el caso *bottom-up*"
      ],
      "metadata": {
        "id": "eGSg_8chE0kU"
      }
    },
    {
      "cell_type": "markdown",
      "source": [
        "#Ejercicio 11 - OperacionesSeq"
      ],
      "metadata": {
        "id": "FrmnvJusFFfZ"
      }
    },
    {
      "cell_type": "markdown",
      "source": [
        "Sea $v = (v_1, v_2, . . . v_n)$ un vector de números naturales, y sea $w ∈ N$. Se desea intercalar entre los\n",
        "elementos de $v$ las operaciones + (suma), × (multiplicación) y ↑ (potenciación) de tal manera\n",
        "que al evaluar la expresión obtenida el resultado sea $w$. Para evaluar la expresión se opera de\n",
        "izquierda a derecha ignorando la precedencia de los operadores. Por ejemplo, si $v = (3, 1, 5, 2, 1)$,\n",
        "y las operaciones elegidas son +, ×, ↑ y × (en ese orden), la expresión obtenida es 3+1×5 ↑ 2×1,\n",
        "que se evalúa como (((3 + 1) × 5) ↑ 2) × 1 = 400"
      ],
      "metadata": {
        "id": "sbzv4OZaFHdV"
      }
    },
    {
      "cell_type": "markdown",
      "source": [
        "a) Escribir una formulación recursiva que sea la base de un algoritmo de PD que, dados $v$ y $w$,\n",
        "encuentre una secuencia de operaciones como la deseada, en caso de que tal secuencia exista.\n",
        "Explicar su semántica e indicar cuáles serían los parámetros para resolver el problema."
      ],
      "metadata": {
        "id": "8FGb9bLVFSTt"
      }
    },
    {
      "cell_type": "markdown",
      "source": [
        "$\\underline{\\text{Nota}}$: le pedí al bot que me ayudará y me indicó esto\n",
        "\n",
        "Podemos definir el subproblema como encontrar una secuencia de operaciones que, aplicadas a los primeros $i$ elementos de $v$, resulten en un valor $j$. Es decir, queremos buscar una secuencia de operaciones para una porción del vector $v$ que nos dé un resultado específico.\n",
        "\n",
        "Sea $DP[i][j]$ verdadero si es posible obtener el valor $j$ al aplicar una secuencia de operaciones a los primeros $i$ elementos de $v$. El valor de $DP[i][j]$ dependerá de las operaciones aplicadas a los resultados previos. Es decir:\n",
        "\n",
        "$$DP[i][j] = DP[i-1][j - v_i] \\lor DP[i-1][j \\div v_i] \\lor DP[i-1][j^{1/v_i}]$$\n",
        "\n",
        "donde:\n",
        "- $DP[i-1][j - v_i]$ representa la suma,\n",
        "- $DP[i-1][j \\div v_i]$ representa la multiplicación (ya que estamos deshaciendo la operación para verificar si el resultado podría haberse obtenido multiplicando el último número),\n",
        "- $DP[i-1][j^{1/v_i}]$ representa la potenciación (también deshaciendo la operación).\n",
        "\n",
        "Los parámetros para resolver el problema serían:\n",
        "- $i$: la posición actual en el vector $v$ que estamos considerando.\n",
        "- $j$: el valor objetivo que queremos alcanzar al aplicar las operaciones a los primeros $i$ elementos de $v$.\n",
        "\n",
        "La semántica de $DP[i][j]$ es: nos indica si es posible llegar al valor $j$ usando los primeros $i$ números del vector $v$ mediante la intercalación de las operaciones definidas"
      ],
      "metadata": {
        "id": "L8b-HR0hGnGW"
      }
    },
    {
      "cell_type": "markdown",
      "source": [
        "Entonces, defino la función:\n",
        "\n",
        "\n",
        "$   \n",
        "opsq (v, i, j) =\n",
        "     \\begin{cases}\n",
        "       \\text{$v[i] == j$} &\\quad\\text{si $i=1$}\\\\\n",
        "       \\text{$opsq(v, i-1, j - v[i]) \\lor opsq(v, i-1, j / v[i]) \\lor opsq(v, i-1, j^{1/v[i]})$} &\\quad\\text{en otro caso}     \n",
        "     \\end{cases}\n",
        "$\n",
        "\n",
        "Inicialmente estaremos en $opsq(v, n, k)$ para $n$ el último índice válido y $k$ el valor a alcanzar. Supongamos que alcanzamos a $k$, ¿Cuál fue la última operación que realizamos con $j$ el resultado de todo lo anterior y el último elemento $v[n]$? La suma, el producto o la potenciación. Si usamos la suma, es que antes teníamos $k - v[i]$, para el producto $k / v[i]$ y para la potenciación $k^{1/v[i]}$. Si es posible alcanzar $k$, alguno será verdadero.\n",
        "\n",
        "Cada uno de esos se actualiza recursivamente hasta llegar al inicio. Donde habrían de haber supuesto un valor inicial para $v[1]$ si sus operaciones eran las correctas."
      ],
      "metadata": {
        "id": "6i7jznDQHR4v"
      }
    },
    {
      "cell_type": "markdown",
      "source": [
        "b) Diseñar un algoritmo basado en PD con la formulación de a) y dar su complejidad temporal\n",
        "y espacial auxiliar. Comparar cómo resultaría un enfoque top-down con uno bottom-up."
      ],
      "metadata": {
        "id": "j_B2KlY2JKwB"
      }
    },
    {
      "cell_type": "code",
      "source": [
        "def opsq_top_down(v, i, j, memo, opers, valid_seqs):\n",
        "\n",
        "  if i == 0:\n",
        "    if v[i] == j:\n",
        "      copia = opers.copy()\n",
        "      valid_seqs.append(copia)\n",
        "    return v[i] == j\n",
        "  elif no_natural(j):\n",
        "    return False\n",
        "  else:\n",
        "    j = int(j)\n",
        "    if memo[i][j] == -1:\n",
        "      #analizamos todos los posibles resultados para cada una de las operaciones\n",
        "      #suma\n",
        "      opers.insert(0, \"+\")\n",
        "      caso_suma = opsq_top_down(v, i-1, j-v[i], memo, opers, valid_seqs)\n",
        "      opers = opers[1:]\n",
        "      #producto\n",
        "      opers.insert(0, \"*\")\n",
        "      caso_producto = opsq_top_down(v, i-1, j / v[i], memo, opers, valid_seqs)\n",
        "      opers = opers[1:]\n",
        "      #potencia\n",
        "      opers.insert(0, \"**\")\n",
        "      caso_potencia = opsq_top_down(v, i-1, j ** (1/v[i]), memo, opers, valid_seqs)\n",
        "      opers = opers[1:]\n",
        "      #la disyunción\n",
        "      res = caso_suma or caso_producto or caso_potencia\n",
        "      memo[i][j] = res\n",
        "\n",
        "  return memo[i][j]\n",
        "\n",
        "def no_natural(j):\n",
        "\n",
        "    if j < 0:\n",
        "      return True\n",
        "\n",
        "    texto_j = str(j)\n",
        "    m = len(texto_j)\n",
        "\n",
        "    if \".\" in texto_j:\n",
        "\n",
        "      indice_punto = texto_j.index(\".\")\n",
        "\n",
        "      for k in range(indice_punto+1, m):\n",
        "        if texto_j[k] != \"0\":\n",
        "          return True\n",
        "\n",
        "    return False"
      ],
      "metadata": {
        "id": "WdGJO4v1JLXr"
      },
      "execution_count": null,
      "outputs": []
    },
    {
      "cell_type": "code",
      "source": [
        "def solution_11_top_down(v, w):\n",
        "\n",
        "  n = len(v)\n",
        "  memo = [[-1] * (w+1) for _ in range(n)]\n",
        "  valid_seqs = []\n",
        "  res = opsq_top_down(v, n-1, w, memo, [], valid_seqs)\n",
        "  #True y [algo] or #False y [vacio]\n",
        "  return res, valid_seqs\n",
        "\n",
        "def producto(v):\n",
        "  res = 1\n",
        "  for i in range(len(v)):\n",
        "    res *= v[i]\n",
        "  return res\n",
        "\n",
        "def potencia(v):\n",
        "  res = v[0]\n",
        "  for i in range(1, len(v)):\n",
        "    res = res ** v[i]\n",
        "  return res"
      ],
      "metadata": {
        "id": "6MXfgB6wJy14"
      },
      "execution_count": null,
      "outputs": []
    },
    {
      "cell_type": "code",
      "source": [
        "v_1 = [3, 1, 5, 2, 1]\n",
        "w_1 = 400\n",
        "res_opsq_1, res_opsq_1_seqs = solution_11_top_down(v_1, w_1)\n",
        "\n",
        "if res_opsq_1:\n",
        "  print(f\"Se encontró la secuencia de operaciones {res_opsq_1_seqs}\")\n",
        "else:\n",
        "  print(\"No se encontró ninguna secuencia de operaciones\")"
      ],
      "metadata": {
        "colab": {
          "base_uri": "https://localhost:8080/"
        },
        "id": "AzpkrMHJM4hS",
        "outputId": "ca912b2b-f887-441b-d526-7586b7c6dbcd"
      },
      "execution_count": null,
      "outputs": [
        {
          "output_type": "stream",
          "name": "stdout",
          "text": [
            "['+', '*', '+', '**', '+', '*', '+', '+', '*', '+', '+', '+']\n",
            "Se encontró la secuencia de operaciones [['+', '*', '+', '**', '+', '*', '+', '+', '*', '+', '+', '+']]\n"
          ]
        }
      ]
    },
    {
      "cell_type": "markdown",
      "source": [
        "La secuencia que me dio está mal, pero sí reconoce que hay solución."
      ],
      "metadata": {
        "id": "PkQLmmyvQ7F3"
      }
    },
    {
      "cell_type": "markdown",
      "source": [
        "#Ejercicio 12 - DadosSuma"
      ],
      "metadata": {
        "id": "7DExS0f1QhQU"
      }
    },
    {
      "cell_type": "markdown",
      "source": [
        "Se arrojan simultáneamente $n$ dados, cada uno con $k$ caras numeradas de 1 a $k$. Queremos calcular\n",
        "todas las maneras posibles de conseguir la suma total $s ∈ N$ con una sola tirada. Tomamos dos\n",
        "variantes de este problema.\n",
        "\n",
        "- $(A)$ Consideramos que los dados son **distinguibles**, es decir que si n = 3 y k = 4, entonces\n",
        "existen 10 posibilidades que suman $s$ = 6:\n",
        "  1.  4 posibilidades en las que el primer dado vale 1\n",
        "  2.  3 posibilidades en las que el primer dado vale 2\n",
        "  3.  2 posibilidades en las que el primer dado vale 3\n",
        "  4.  Una posibilidad en la que el primer dado vale 4\n",
        "-$(B)$ Consideramos que los dados son **indistinguibles**, es decir que si $n = 3$ y $k = 4$, entonces\n",
        "existen 3 posibilidades que suman $s$ = 6:\n",
        "  1. Un dado vale 4, los otros dos valen 1\n",
        "  2. Un dado vale 3, otro 2 y otro 1\n",
        "  3. Todos los dados valen 2"
      ],
      "metadata": {
        "id": "8Vckvht_UOGS"
      }
    },
    {
      "cell_type": "markdown",
      "source": [
        "a) Definir en forma recursiva la función $f : N^2 → N$ tal que $f (n, s)$ devuelve la respuesta para\n",
        "el escenario $(A)$ (fijado $k$)"
      ],
      "metadata": {
        "id": "qShVqggRUXE7"
      }
    },
    {
      "cell_type": "markdown",
      "source": [
        "\n",
        "$   \n",
        "f (n, s) =\n",
        "     \\begin{cases}\n",
        "       \\text{if $s = 0$ then $1$ else $0$} &\\quad\\text{si $n = 0$}\\\\\n",
        "       \\text{$\\sum_{i=1}^k{\\text{if } f(n-1,s-i) \\text{ then } 1 \\text{ else } 0}$} &\\quad\\text{en otro caso}     \n",
        "     \\end{cases}\n",
        "$\n"
      ],
      "metadata": {
        "id": "QNEkF2dxU6TV"
      }
    },
    {
      "cell_type": "markdown",
      "source": [
        "Esta sumatoria va a tener en cada llamada recursiva a $k$ términos, representando en cada caso un valor posible para el nésimo dado que tiramos. Si ya tiramos los $n$ que tenemos, debemos ver que hayamos sumado lo correspondido"
      ],
      "metadata": {
        "id": "wGvkX96qcY8f"
      }
    },
    {
      "cell_type": "markdown",
      "source": [
        "b) Definir en forma recursiva la función $g : N^3 → N$ tal que $g (n, s, k)$ devuelve la respuesta\n",
        "para el escenario $(B)$."
      ],
      "metadata": {
        "id": "ZSwRqsZfclAs"
      }
    },
    {
      "cell_type": "markdown",
      "source": [
        "$ g(n, s, k) =\n",
        "\\begin{cases}\n",
        "\\text{if $s=0$ then $1$ else $0$} &\\quad\\text{si $n = 0$}\\\\ \\sum_{i=1}^{k}{g(n-1,s-i)} &\\quad\\text{en otro caso}\n",
        "\\end{cases} $"
      ],
      "metadata": {
        "id": "udp5cBWvefGO"
      }
    },
    {
      "cell_type": "markdown",
      "source": [
        "Es muy similar al anterior, pero introduciendo k"
      ],
      "metadata": {
        "id": "0nTflSTif9SV"
      }
    },
    {
      "cell_type": "code",
      "source": [],
      "metadata": {
        "id": "XnRNo3epUN0R"
      },
      "execution_count": null,
      "outputs": []
    }
  ],
  "metadata": {
    "colab": {
      "collapsed_sections": [
        "d86axDPuc-oR"
      ],
      "toc_visible": true,
      "provenance": []
    },
    "kernelspec": {
      "display_name": "Python 3",
      "name": "python3"
    },
    "language_info": {
      "name": "python"
    }
  },
  "nbformat": 4,
  "nbformat_minor": 0
}